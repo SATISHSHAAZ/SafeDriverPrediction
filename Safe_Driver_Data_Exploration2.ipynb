{
 "cells": [
  {
   "cell_type": "code",
   "execution_count": 76,
   "metadata": {},
   "outputs": [],
   "source": [
    "import pandas as pd\n",
    "import numpy as np\n",
    "import matplotlib.pyplot as plt\n",
    "%matplotlib inline"
   ]
  },
  {
   "cell_type": "code",
   "execution_count": 77,
   "metadata": {},
   "outputs": [],
   "source": [
    "df_train=pd.read_csv(\"train.csv\")"
   ]
  },
  {
   "cell_type": "code",
   "execution_count": 78,
   "metadata": {},
   "outputs": [],
   "source": [
    "df_test=pd.read_csv(\"test.csv\")"
   ]
  },
  {
   "cell_type": "code",
   "execution_count": 79,
   "metadata": {},
   "outputs": [],
   "source": [
    "df=pd.concat([df_train,df_test],ignore_index=True,axis=0)"
   ]
  },
  {
   "cell_type": "code",
   "execution_count": 80,
   "metadata": {},
   "outputs": [
    {
     "data": {
      "text/html": [
       "<div>\n",
       "<style>\n",
       "    .dataframe thead tr:only-child th {\n",
       "        text-align: right;\n",
       "    }\n",
       "\n",
       "    .dataframe thead th {\n",
       "        text-align: left;\n",
       "    }\n",
       "\n",
       "    .dataframe tbody tr th {\n",
       "        vertical-align: top;\n",
       "    }\n",
       "</style>\n",
       "<table border=\"1\" class=\"dataframe\">\n",
       "  <thead>\n",
       "    <tr style=\"text-align: right;\">\n",
       "      <th></th>\n",
       "      <th>id</th>\n",
       "      <th>ps_calc_01</th>\n",
       "      <th>ps_calc_02</th>\n",
       "      <th>ps_calc_03</th>\n",
       "      <th>ps_calc_04</th>\n",
       "      <th>ps_calc_05</th>\n",
       "      <th>ps_calc_06</th>\n",
       "      <th>ps_calc_07</th>\n",
       "      <th>ps_calc_08</th>\n",
       "      <th>ps_calc_09</th>\n",
       "      <th>...</th>\n",
       "      <th>ps_ind_13_bin</th>\n",
       "      <th>ps_ind_14</th>\n",
       "      <th>ps_ind_15</th>\n",
       "      <th>ps_ind_16_bin</th>\n",
       "      <th>ps_ind_17_bin</th>\n",
       "      <th>ps_ind_18_bin</th>\n",
       "      <th>ps_reg_01</th>\n",
       "      <th>ps_reg_02</th>\n",
       "      <th>ps_reg_03</th>\n",
       "      <th>target</th>\n",
       "    </tr>\n",
       "  </thead>\n",
       "  <tbody>\n",
       "    <tr>\n",
       "      <th>0</th>\n",
       "      <td>7</td>\n",
       "      <td>0.6</td>\n",
       "      <td>0.5</td>\n",
       "      <td>0.2</td>\n",
       "      <td>3</td>\n",
       "      <td>1</td>\n",
       "      <td>10</td>\n",
       "      <td>1</td>\n",
       "      <td>10</td>\n",
       "      <td>1</td>\n",
       "      <td>...</td>\n",
       "      <td>0</td>\n",
       "      <td>0</td>\n",
       "      <td>11</td>\n",
       "      <td>0</td>\n",
       "      <td>1</td>\n",
       "      <td>0</td>\n",
       "      <td>0.7</td>\n",
       "      <td>0.2</td>\n",
       "      <td>0.718070</td>\n",
       "      <td>0.0</td>\n",
       "    </tr>\n",
       "    <tr>\n",
       "      <th>1</th>\n",
       "      <td>9</td>\n",
       "      <td>0.3</td>\n",
       "      <td>0.1</td>\n",
       "      <td>0.3</td>\n",
       "      <td>2</td>\n",
       "      <td>1</td>\n",
       "      <td>9</td>\n",
       "      <td>5</td>\n",
       "      <td>8</td>\n",
       "      <td>1</td>\n",
       "      <td>...</td>\n",
       "      <td>0</td>\n",
       "      <td>0</td>\n",
       "      <td>3</td>\n",
       "      <td>0</td>\n",
       "      <td>0</td>\n",
       "      <td>1</td>\n",
       "      <td>0.8</td>\n",
       "      <td>0.4</td>\n",
       "      <td>0.766078</td>\n",
       "      <td>0.0</td>\n",
       "    </tr>\n",
       "    <tr>\n",
       "      <th>2</th>\n",
       "      <td>13</td>\n",
       "      <td>0.5</td>\n",
       "      <td>0.7</td>\n",
       "      <td>0.1</td>\n",
       "      <td>2</td>\n",
       "      <td>2</td>\n",
       "      <td>9</td>\n",
       "      <td>1</td>\n",
       "      <td>8</td>\n",
       "      <td>2</td>\n",
       "      <td>...</td>\n",
       "      <td>0</td>\n",
       "      <td>0</td>\n",
       "      <td>12</td>\n",
       "      <td>1</td>\n",
       "      <td>0</td>\n",
       "      <td>0</td>\n",
       "      <td>0.0</td>\n",
       "      <td>0.0</td>\n",
       "      <td>-1.000000</td>\n",
       "      <td>0.0</td>\n",
       "    </tr>\n",
       "    <tr>\n",
       "      <th>3</th>\n",
       "      <td>16</td>\n",
       "      <td>0.6</td>\n",
       "      <td>0.9</td>\n",
       "      <td>0.1</td>\n",
       "      <td>2</td>\n",
       "      <td>4</td>\n",
       "      <td>7</td>\n",
       "      <td>1</td>\n",
       "      <td>8</td>\n",
       "      <td>4</td>\n",
       "      <td>...</td>\n",
       "      <td>0</td>\n",
       "      <td>0</td>\n",
       "      <td>8</td>\n",
       "      <td>1</td>\n",
       "      <td>0</td>\n",
       "      <td>0</td>\n",
       "      <td>0.9</td>\n",
       "      <td>0.2</td>\n",
       "      <td>0.580948</td>\n",
       "      <td>0.0</td>\n",
       "    </tr>\n",
       "    <tr>\n",
       "      <th>4</th>\n",
       "      <td>17</td>\n",
       "      <td>0.4</td>\n",
       "      <td>0.6</td>\n",
       "      <td>0.0</td>\n",
       "      <td>2</td>\n",
       "      <td>2</td>\n",
       "      <td>6</td>\n",
       "      <td>3</td>\n",
       "      <td>10</td>\n",
       "      <td>2</td>\n",
       "      <td>...</td>\n",
       "      <td>0</td>\n",
       "      <td>0</td>\n",
       "      <td>9</td>\n",
       "      <td>1</td>\n",
       "      <td>0</td>\n",
       "      <td>0</td>\n",
       "      <td>0.7</td>\n",
       "      <td>0.6</td>\n",
       "      <td>0.840759</td>\n",
       "      <td>0.0</td>\n",
       "    </tr>\n",
       "    <tr>\n",
       "      <th>5</th>\n",
       "      <td>19</td>\n",
       "      <td>0.7</td>\n",
       "      <td>0.8</td>\n",
       "      <td>0.4</td>\n",
       "      <td>3</td>\n",
       "      <td>1</td>\n",
       "      <td>8</td>\n",
       "      <td>2</td>\n",
       "      <td>11</td>\n",
       "      <td>3</td>\n",
       "      <td>...</td>\n",
       "      <td>0</td>\n",
       "      <td>0</td>\n",
       "      <td>6</td>\n",
       "      <td>1</td>\n",
       "      <td>0</td>\n",
       "      <td>0</td>\n",
       "      <td>0.9</td>\n",
       "      <td>1.8</td>\n",
       "      <td>2.332649</td>\n",
       "      <td>0.0</td>\n",
       "    </tr>\n",
       "    <tr>\n",
       "      <th>6</th>\n",
       "      <td>20</td>\n",
       "      <td>0.2</td>\n",
       "      <td>0.6</td>\n",
       "      <td>0.5</td>\n",
       "      <td>2</td>\n",
       "      <td>2</td>\n",
       "      <td>8</td>\n",
       "      <td>1</td>\n",
       "      <td>8</td>\n",
       "      <td>3</td>\n",
       "      <td>...</td>\n",
       "      <td>0</td>\n",
       "      <td>0</td>\n",
       "      <td>8</td>\n",
       "      <td>1</td>\n",
       "      <td>0</td>\n",
       "      <td>0</td>\n",
       "      <td>0.6</td>\n",
       "      <td>0.1</td>\n",
       "      <td>0.617454</td>\n",
       "      <td>0.0</td>\n",
       "    </tr>\n",
       "    <tr>\n",
       "      <th>7</th>\n",
       "      <td>22</td>\n",
       "      <td>0.1</td>\n",
       "      <td>0.5</td>\n",
       "      <td>0.1</td>\n",
       "      <td>1</td>\n",
       "      <td>2</td>\n",
       "      <td>7</td>\n",
       "      <td>1</td>\n",
       "      <td>6</td>\n",
       "      <td>1</td>\n",
       "      <td>...</td>\n",
       "      <td>0</td>\n",
       "      <td>0</td>\n",
       "      <td>13</td>\n",
       "      <td>1</td>\n",
       "      <td>0</td>\n",
       "      <td>0</td>\n",
       "      <td>0.7</td>\n",
       "      <td>0.4</td>\n",
       "      <td>0.607248</td>\n",
       "      <td>0.0</td>\n",
       "    </tr>\n",
       "    <tr>\n",
       "      <th>8</th>\n",
       "      <td>26</td>\n",
       "      <td>0.9</td>\n",
       "      <td>0.8</td>\n",
       "      <td>0.6</td>\n",
       "      <td>3</td>\n",
       "      <td>1</td>\n",
       "      <td>7</td>\n",
       "      <td>3</td>\n",
       "      <td>9</td>\n",
       "      <td>4</td>\n",
       "      <td>...</td>\n",
       "      <td>0</td>\n",
       "      <td>0</td>\n",
       "      <td>6</td>\n",
       "      <td>1</td>\n",
       "      <td>0</td>\n",
       "      <td>0</td>\n",
       "      <td>0.9</td>\n",
       "      <td>0.7</td>\n",
       "      <td>0.901388</td>\n",
       "      <td>0.0</td>\n",
       "    </tr>\n",
       "    <tr>\n",
       "      <th>9</th>\n",
       "      <td>28</td>\n",
       "      <td>0.7</td>\n",
       "      <td>0.8</td>\n",
       "      <td>0.8</td>\n",
       "      <td>2</td>\n",
       "      <td>2</td>\n",
       "      <td>8</td>\n",
       "      <td>2</td>\n",
       "      <td>9</td>\n",
       "      <td>1</td>\n",
       "      <td>...</td>\n",
       "      <td>0</td>\n",
       "      <td>0</td>\n",
       "      <td>4</td>\n",
       "      <td>0</td>\n",
       "      <td>0</td>\n",
       "      <td>1</td>\n",
       "      <td>0.9</td>\n",
       "      <td>1.4</td>\n",
       "      <td>2.316652</td>\n",
       "      <td>1.0</td>\n",
       "    </tr>\n",
       "  </tbody>\n",
       "</table>\n",
       "<p>10 rows × 59 columns</p>\n",
       "</div>"
      ],
      "text/plain": [
       "   id  ps_calc_01  ps_calc_02  ps_calc_03  ps_calc_04  ps_calc_05  ps_calc_06  \\\n",
       "0   7         0.6         0.5         0.2           3           1          10   \n",
       "1   9         0.3         0.1         0.3           2           1           9   \n",
       "2  13         0.5         0.7         0.1           2           2           9   \n",
       "3  16         0.6         0.9         0.1           2           4           7   \n",
       "4  17         0.4         0.6         0.0           2           2           6   \n",
       "5  19         0.7         0.8         0.4           3           1           8   \n",
       "6  20         0.2         0.6         0.5           2           2           8   \n",
       "7  22         0.1         0.5         0.1           1           2           7   \n",
       "8  26         0.9         0.8         0.6           3           1           7   \n",
       "9  28         0.7         0.8         0.8           2           2           8   \n",
       "\n",
       "   ps_calc_07  ps_calc_08  ps_calc_09   ...    ps_ind_13_bin  ps_ind_14  \\\n",
       "0           1          10           1   ...                0          0   \n",
       "1           5           8           1   ...                0          0   \n",
       "2           1           8           2   ...                0          0   \n",
       "3           1           8           4   ...                0          0   \n",
       "4           3          10           2   ...                0          0   \n",
       "5           2          11           3   ...                0          0   \n",
       "6           1           8           3   ...                0          0   \n",
       "7           1           6           1   ...                0          0   \n",
       "8           3           9           4   ...                0          0   \n",
       "9           2           9           1   ...                0          0   \n",
       "\n",
       "   ps_ind_15  ps_ind_16_bin  ps_ind_17_bin  ps_ind_18_bin  ps_reg_01  \\\n",
       "0         11              0              1              0        0.7   \n",
       "1          3              0              0              1        0.8   \n",
       "2         12              1              0              0        0.0   \n",
       "3          8              1              0              0        0.9   \n",
       "4          9              1              0              0        0.7   \n",
       "5          6              1              0              0        0.9   \n",
       "6          8              1              0              0        0.6   \n",
       "7         13              1              0              0        0.7   \n",
       "8          6              1              0              0        0.9   \n",
       "9          4              0              0              1        0.9   \n",
       "\n",
       "   ps_reg_02  ps_reg_03  target  \n",
       "0        0.2   0.718070     0.0  \n",
       "1        0.4   0.766078     0.0  \n",
       "2        0.0  -1.000000     0.0  \n",
       "3        0.2   0.580948     0.0  \n",
       "4        0.6   0.840759     0.0  \n",
       "5        1.8   2.332649     0.0  \n",
       "6        0.1   0.617454     0.0  \n",
       "7        0.4   0.607248     0.0  \n",
       "8        0.7   0.901388     0.0  \n",
       "9        1.4   2.316652     1.0  \n",
       "\n",
       "[10 rows x 59 columns]"
      ]
     },
     "execution_count": 80,
     "metadata": {},
     "output_type": "execute_result"
    }
   ],
   "source": [
    "df.head(10)"
   ]
  },
  {
   "cell_type": "code",
   "execution_count": 81,
   "metadata": {},
   "outputs": [],
   "source": [
    "del(df['id'])"
   ]
  },
  {
   "cell_type": "code",
   "execution_count": 82,
   "metadata": {},
   "outputs": [],
   "source": [
    "list_categorical_columns=[]\n",
    "list_numerical_columns=[]\n",
    "for p in list(df.columns):\n",
    "    if \"cat\" in p.lower():\n",
    "            list_categorical_columns.append(p)\n",
    "    elif\"bin\" in p.lower():\n",
    "            list_categorical_columns.append(p)\n",
    "    else:\n",
    "        list_numerical_columns.append(p)\n",
    "list_numerical_columns.remove('target')"
   ]
  },
  {
   "cell_type": "code",
   "execution_count": 83,
   "metadata": {},
   "outputs": [
    {
     "data": {
      "text/plain": [
       "26"
      ]
     },
     "execution_count": 83,
     "metadata": {},
     "output_type": "execute_result"
    }
   ],
   "source": [
    "len(list_numerical_columns)"
   ]
  },
  {
   "cell_type": "code",
   "execution_count": 84,
   "metadata": {},
   "outputs": [],
   "source": [
    "df_numerical=df[list_numerical_columns]"
   ]
  },
  {
   "cell_type": "code",
   "execution_count": 85,
   "metadata": {},
   "outputs": [
    {
     "data": {
      "text/plain": [
       "['ps_calc_01',\n",
       " 'ps_calc_02',\n",
       " 'ps_calc_03',\n",
       " 'ps_calc_04',\n",
       " 'ps_calc_05',\n",
       " 'ps_calc_06',\n",
       " 'ps_calc_07',\n",
       " 'ps_calc_08',\n",
       " 'ps_calc_09',\n",
       " 'ps_calc_10',\n",
       " 'ps_calc_11',\n",
       " 'ps_calc_12',\n",
       " 'ps_calc_13',\n",
       " 'ps_calc_14',\n",
       " 'ps_car_11',\n",
       " 'ps_car_12',\n",
       " 'ps_car_13',\n",
       " 'ps_car_14',\n",
       " 'ps_car_15',\n",
       " 'ps_ind_01',\n",
       " 'ps_ind_03',\n",
       " 'ps_ind_14',\n",
       " 'ps_ind_15',\n",
       " 'ps_reg_01',\n",
       " 'ps_reg_02',\n",
       " 'ps_reg_03']"
      ]
     },
     "execution_count": 85,
     "metadata": {},
     "output_type": "execute_result"
    }
   ],
   "source": [
    "list_numerical_columns"
   ]
  },
  {
   "cell_type": "code",
   "execution_count": 86,
   "metadata": {},
   "outputs": [
    {
     "data": {
      "text/plain": [
       "Text(0,0.5,u'Frequency')"
      ]
     },
     "execution_count": 86,
     "metadata": {},
     "output_type": "execute_result"
    },
    {
     "data": {
      "image/png": "[encoded data removed]",
      "text/plain": [
       "<matplotlib.figure.Figure at 0x7f5c23f64610>"
      ]
     },
     "metadata": {},
     "output_type": "display_data"
    }
   ],
   "source": [
    "fig1=plt.figure(figsize=(20,10))\n",
    "ax1=fig1.add_subplot(2,2,1)\n",
    "ax2=fig1.add_subplot(2,2,2)\n",
    "ax3=fig1.add_subplot(2,2,3)\n",
    "ax4=fig1.add_subplot(2,2,4)\n",
    "ax1.hist(df['ps_calc_01'],bins=20,color=(0.1,0.2,0.3))\n",
    "ax1.set_xlabel(\"ps_calc_01\",fontsize=15,weight='bold')\n",
    "ax1.set_ylabel(\"Frequency\",fontsize=15,weight='bold')\n",
    "ax2.hist(df['ps_calc_02'],bins=20,color=(0.1,0.4,0.5))\n",
    "ax2.set_xlabel(\"ps_calc_02\",fontsize=15,weight='bold')\n",
    "ax2.set_ylabel(\"Frequency\",fontsize=15,weight='bold')\n",
    "ax3.hist(df['ps_calc_03'],bins=20,color=(0.1,0.5,0.6))\n",
    "ax3.set_xlabel(\"ps_calc_03\",fontsize=15,weight='bold')\n",
    "ax3.set_ylabel(\"Frequency\",fontsize=15,weight='bold')\n",
    "ax4.hist(df['ps_calc_04'],bins=20,color=(0.1,0.8,0.7))\n",
    "ax4.set_xlabel(\"ps_calc_04\",fontsize=15,weight='bold')\n",
    "ax4.set_ylabel(\"Frequency\",fontsize=15,weight='bold')"
   ]
  },
  {
   "cell_type": "code",
   "execution_count": 87,
   "metadata": {},
   "outputs": [],
   "source": [
    "df_train2=df[~(df['target'].isnull())]"
   ]
  },
  {
   "cell_type": "code",
   "execution_count": 88,
   "metadata": {},
   "outputs": [
    {
     "data": {
      "text/plain": [
       "ps_calc_01\n",
       "0.0    0.036132\n",
       "0.1    0.034989\n",
       "0.2    0.035975\n",
       "0.3    0.036900\n",
       "0.4    0.036794\n",
       "0.5    0.037828\n",
       "0.6    0.035613\n",
       "0.7    0.037350\n",
       "0.8    0.035421\n",
       "0.9    0.037488\n",
       "Name: target, dtype: float64"
      ]
     },
     "execution_count": 88,
     "metadata": {},
     "output_type": "execute_result"
    }
   ],
   "source": [
    "df_train2.groupby('ps_calc_01')['target'].mean()"
   ]
  },
  {
   "cell_type": "code",
   "execution_count": 89,
   "metadata": {},
   "outputs": [
    {
     "data": {
      "text/plain": [
       "ps_calc_02\n",
       "0.0    0.034956\n",
       "0.1    0.035835\n",
       "0.2    0.036945\n",
       "0.3    0.036447\n",
       "0.4    0.037678\n",
       "0.5    0.035975\n",
       "0.6    0.037462\n",
       "0.7    0.036352\n",
       "0.8    0.036875\n",
       "0.9    0.035951\n",
       "Name: target, dtype: float64"
      ]
     },
     "execution_count": 89,
     "metadata": {},
     "output_type": "execute_result"
    }
   ],
   "source": [
    "df_train2.groupby('ps_calc_02')['target'].mean()"
   ]
  },
  {
   "cell_type": "code",
   "execution_count": 90,
   "metadata": {},
   "outputs": [
    {
     "data": {
      "text/plain": [
       "ps_calc_03\n",
       "0.0    0.035065\n",
       "0.1    0.035712\n",
       "0.2    0.036678\n",
       "0.3    0.037062\n",
       "0.4    0.036874\n",
       "0.5    0.036669\n",
       "0.6    0.036256\n",
       "0.7    0.036082\n",
       "0.8    0.037507\n",
       "0.9    0.036571\n",
       "Name: target, dtype: float64"
      ]
     },
     "execution_count": 90,
     "metadata": {},
     "output_type": "execute_result"
    }
   ],
   "source": [
    "df_train2.groupby('ps_calc_03')['target'].mean()"
   ]
  },
  {
   "cell_type": "code",
   "execution_count": 91,
   "metadata": {},
   "outputs": [
    {
     "data": {
      "text/plain": [
       "ps_calc_04\n",
       "0    0.035756\n",
       "1    0.036357\n",
       "2    0.036855\n",
       "3    0.036203\n",
       "4    0.036027\n",
       "5    0.038117\n",
       "Name: target, dtype: float64"
      ]
     },
     "execution_count": 91,
     "metadata": {},
     "output_type": "execute_result"
    }
   ],
   "source": [
    "df_train2.groupby('ps_calc_04')['target'].mean()"
   ]
  },
  {
   "cell_type": "code",
   "execution_count": 58,
   "metadata": {},
   "outputs": [
    {
     "data": {
      "text/plain": [
       "Text(0,0.5,u'Frequency')"
      ]
     },
     "execution_count": 58,
     "metadata": {},
     "output_type": "execute_result"
    },
    {
     "data": {
      "image/png": "[encoded data removed]",
      "text/plain": [
       "<matplotlib.figure.Figure at 0x7f5c25410d90>"
      ]
     },
     "metadata": {},
     "output_type": "display_data"
    }
   ],
   "source": [
    "fig2=plt.figure(figsize=(20,10))\n",
    "ax1=fig2.add_subplot(2,2,1)\n",
    "ax2=fig2.add_subplot(2,2,2)\n",
    "ax3=fig2.add_subplot(2,2,3)\n",
    "ax4=fig2.add_subplot(2,2,4)\n",
    "ax1.hist(df['ps_calc_05'],bins=20,color=(0.3,0.2,0.3))\n",
    "ax1.set_xlabel(\"ps_calc_05\",fontsize=15,weight='bold')\n",
    "ax1.set_ylabel(\"Frequency\",fontsize=15,weight='bold')\n",
    "ax2.hist(df['ps_calc_06'],bins=20,color=(0.4,0.4,0.5))\n",
    "ax2.set_xlabel(\"ps_calc_06\",fontsize=15,weight='bold')\n",
    "ax2.set_ylabel(\"Frequency\",fontsize=15,weight='bold')\n",
    "ax3.hist(df['ps_calc_07'],bins=20,color=(0.5,0.5,0.6))\n",
    "ax3.set_xlabel(\"ps_calc_07\",fontsize=15,weight='bold')\n",
    "ax3.set_ylabel(\"Frequency\",fontsize=15,weight='bold')\n",
    "ax4.hist(df['ps_calc_08'],bins=20,color=(0.6,0.8,0.7))\n",
    "ax4.set_xlabel(\"ps_calc_08\",fontsize=15,weight='bold')\n",
    "ax4.set_ylabel(\"Frequency\",fontsize=15,weight='bold')"
   ]
  },
  {
   "cell_type": "code",
   "execution_count": 92,
   "metadata": {},
   "outputs": [
    {
     "data": {
      "text/plain": [
       "ps_calc_05\n",
       "0    0.036194\n",
       "1    0.036404\n",
       "2    0.036642\n",
       "3    0.036009\n",
       "4    0.036699\n",
       "5    0.038758\n",
       "6    0.053763\n",
       "Name: target, dtype: float64"
      ]
     },
     "execution_count": 92,
     "metadata": {},
     "output_type": "execute_result"
    }
   ],
   "source": [
    "df_train2.groupby('ps_calc_05')['target'].mean()"
   ]
  },
  {
   "cell_type": "code",
   "execution_count": 93,
   "metadata": {},
   "outputs": [
    {
     "data": {
      "text/plain": [
       "ps_calc_06\n",
       "0     0.000000\n",
       "1     0.000000\n",
       "2     0.022727\n",
       "3     0.031693\n",
       "4     0.038330\n",
       "5     0.035997\n",
       "6     0.036392\n",
       "7     0.035973\n",
       "8     0.037243\n",
       "9     0.036182\n",
       "10    0.035813\n",
       "Name: target, dtype: float64"
      ]
     },
     "execution_count": 93,
     "metadata": {},
     "output_type": "execute_result"
    }
   ],
   "source": [
    "df_train2.groupby('ps_calc_06')['target'].mean()"
   ]
  },
  {
   "cell_type": "code",
   "execution_count": 94,
   "metadata": {},
   "outputs": [
    {
     "data": {
      "text/plain": [
       "ps_calc_07\n",
       "0    0.036298\n",
       "1    0.037282\n",
       "2    0.036384\n",
       "3    0.035964\n",
       "4    0.036849\n",
       "5    0.035346\n",
       "6    0.038034\n",
       "7    0.041087\n",
       "8    0.031079\n",
       "9    0.086957\n",
       "Name: target, dtype: float64"
      ]
     },
     "execution_count": 94,
     "metadata": {},
     "output_type": "execute_result"
    }
   ],
   "source": [
    "df_train2.groupby('ps_calc_07')['target'].mean()"
   ]
  },
  {
   "cell_type": "code",
   "execution_count": 95,
   "metadata": {},
   "outputs": [
    {
     "data": {
      "text/plain": [
       "ps_calc_08\n",
       "2     0.000000\n",
       "3     0.033333\n",
       "4     0.035629\n",
       "5     0.038040\n",
       "6     0.037479\n",
       "7     0.036012\n",
       "8     0.037360\n",
       "9     0.036133\n",
       "10    0.035981\n",
       "11    0.036840\n",
       "12    0.035917\n",
       "Name: target, dtype: float64"
      ]
     },
     "execution_count": 95,
     "metadata": {},
     "output_type": "execute_result"
    }
   ],
   "source": [
    "df_train2.groupby('ps_calc_08')['target'].mean()"
   ]
  },
  {
   "cell_type": "code",
   "execution_count": 59,
   "metadata": {},
   "outputs": [
    {
     "data": {
      "text/plain": [
       "Text(0,0.5,u'Frequency')"
      ]
     },
     "execution_count": 59,
     "metadata": {},
     "output_type": "execute_result"
    },
    {
     "data": {
      "image/png": "[encoded data removed]",
      "text/plain": [
       "<matplotlib.figure.Figure at 0x7f5c252c8790>"
      ]
     },
     "metadata": {},
     "output_type": "display_data"
    }
   ],
   "source": [
    "fig3=plt.figure(figsize=(20,10))\n",
    "ax1=fig3.add_subplot(2,2,1)\n",
    "ax2=fig3.add_subplot(2,2,2)\n",
    "ax3=fig3.add_subplot(2,2,3)\n",
    "ax4=fig3.add_subplot(2,2,4)\n",
    "ax1.hist(df['ps_calc_09'],bins=20,color=(0.3,0.4,0.3))\n",
    "ax1.set_xlabel(\"ps_calc_09\",fontsize=15,weight='bold')\n",
    "ax1.set_ylabel(\"Frequency\",fontsize=15,weight='bold')\n",
    "ax2.hist(df['ps_calc_10'],bins=20,color=(0.4,0.6,0.5))\n",
    "ax2.set_xlabel(\"ps_calc_10\",fontsize=15,weight='bold')\n",
    "ax2.set_ylabel(\"Frequency\",fontsize=15,weight='bold')\n",
    "ax3.hist(df['ps_calc_11'],bins=20,color=(0.5,0.8,0.6))\n",
    "ax3.set_xlabel(\"ps_calc_11\",fontsize=15,weight='bold')\n",
    "ax3.set_ylabel(\"Frequency\",fontsize=15,weight='bold')\n",
    "ax4.hist(df['ps_calc_12'],bins=20,color=(0.6,1.0,0.7))\n",
    "ax4.set_xlabel(\"ps_calc_12\",fontsize=15,weight='bold')\n",
    "ax4.set_ylabel(\"Frequency\",fontsize=15,weight='bold')"
   ]
  },
  {
   "cell_type": "code",
   "execution_count": 96,
   "metadata": {},
   "outputs": [
    {
     "data": {
      "text/plain": [
       "ps_calc_09\n",
       "0    0.036805\n",
       "1    0.035513\n",
       "2    0.036845\n",
       "3    0.036538\n",
       "4    0.037052\n",
       "5    0.035037\n",
       "6    0.036753\n",
       "7    0.034221\n",
       "Name: target, dtype: float64"
      ]
     },
     "execution_count": 96,
     "metadata": {},
     "output_type": "execute_result"
    }
   ],
   "source": [
    "df_train2.groupby('ps_calc_09')['target'].mean()"
   ]
  },
  {
   "cell_type": "code",
   "execution_count": 97,
   "metadata": {},
   "outputs": [
    {
     "data": {
      "text/plain": [
       "ps_calc_10\n",
       "0     0.043165\n",
       "1     0.032520\n",
       "2     0.036137\n",
       "3     0.036438\n",
       "4     0.035730\n",
       "5     0.035924\n",
       "6     0.035963\n",
       "7     0.036791\n",
       "8     0.035628\n",
       "9     0.037970\n",
       "10    0.037163\n",
       "11    0.035750\n",
       "12    0.036175\n",
       "13    0.034524\n",
       "14    0.039652\n",
       "15    0.038177\n",
       "16    0.032603\n",
       "17    0.032337\n",
       "18    0.043384\n",
       "19    0.047382\n",
       "20    0.047619\n",
       "21    0.030769\n",
       "22    0.030303\n",
       "23    0.000000\n",
       "24    0.000000\n",
       "25    0.000000\n",
       "Name: target, dtype: float64"
      ]
     },
     "execution_count": 97,
     "metadata": {},
     "output_type": "execute_result"
    }
   ],
   "source": [
    "df_train2.groupby('ps_calc_10')['target'].mean()"
   ]
  },
  {
   "cell_type": "code",
   "execution_count": 98,
   "metadata": {},
   "outputs": [
    {
     "data": {
      "text/plain": [
       "ps_calc_12\n",
       "0     0.036759\n",
       "1     0.036393\n",
       "2     0.036615\n",
       "3     0.035877\n",
       "4     0.035612\n",
       "5     0.037174\n",
       "6     0.038283\n",
       "7     0.025840\n",
       "8     0.045455\n",
       "9     0.000000\n",
       "10    0.000000\n",
       "Name: target, dtype: float64"
      ]
     },
     "execution_count": 98,
     "metadata": {},
     "output_type": "execute_result"
    }
   ],
   "source": [
    "df_train2.groupby('ps_calc_12')['target'].mean()"
   ]
  },
  {
   "cell_type": "code",
   "execution_count": 61,
   "metadata": {},
   "outputs": [
    {
     "data": {
      "text/plain": [
       "Text(0,0.5,u'Frequency')"
      ]
     },
     "execution_count": 61,
     "metadata": {},
     "output_type": "execute_result"
    },
    {
     "data": {
      "image/png": "[encoded data removed]",
      "text/plain": [
       "<matplotlib.figure.Figure at 0x7f5c24d97e10>"
      ]
     },
     "metadata": {},
     "output_type": "display_data"
    }
   ],
   "source": [
    "fig4=plt.figure(figsize=(20,5))\n",
    "ax1=fig4.add_subplot(1,2,1)\n",
    "ax2=fig4.add_subplot(1,2,2)\n",
    "ax1.hist(df['ps_calc_13'],bins=20,color=(0.3,0.4,0.3))\n",
    "ax1.set_xlabel(\"ps_calc_13\",fontsize=15,weight='bold')\n",
    "ax1.set_ylabel(\"Frequency\",fontsize=15,weight='bold')\n",
    "ax2.hist(df['ps_calc_14'],bins=20,color=(0.4,0.6,0.5))\n",
    "ax2.set_xlabel(\"ps_calc_14\",fontsize=15,weight='bold')\n",
    "ax2.set_ylabel(\"Frequency\",fontsize=15,weight='bold')"
   ]
  },
  {
   "cell_type": "code",
   "execution_count": 75,
   "metadata": {},
   "outputs": [
    {
     "data": {
      "text/plain": [
       "Text(0,0.5,u'Frequency')"
      ]
     },
     "execution_count": 75,
     "metadata": {},
     "output_type": "execute_result"
    },
    {
     "data": {
      "image/png": "[encoded data removed]",
      "text/plain": [
       "<matplotlib.figure.Figure at 0x7f5c23efc290>"
      ]
     },
     "metadata": {},
     "output_type": "display_data"
    }
   ],
   "source": [
    "fig5=plt.figure(figsize=(20,15))\n",
    "ax1=fig5.add_subplot(2,3,1)\n",
    "ax2=fig5.add_subplot(2,3,2)\n",
    "ax3=fig5.add_subplot(2,3,3)\n",
    "ax4=fig5.add_subplot(2,3,4)\n",
    "ax5=fig5.add_subplot(2,3,5)\n",
    "ax1.hist(df['ps_car_11'][df['ps_car_11']!=-1],bins=20,color=(0.3,0.4,0.3))\n",
    "ax1.set_xlabel(\"ps_car_11\",fontsize=15,weight='bold')\n",
    "ax1.set_ylabel(\"Frequency\",fontsize=15,weight='bold')\n",
    "ax2.hist(df['ps_car_12'][df['ps_car_12']!=-1],bins=20,color=(0.4,0.6,0.5))\n",
    "ax2.set_xlabel(\"ps_car_12\",fontsize=15,weight='bold')\n",
    "ax2.set_ylabel(\"Frequency\",fontsize=15,weight='bold')\n",
    "ax3.hist(df['ps_car_13'],bins=20,color=(0.5,0.8,0.6))\n",
    "ax3.set_xlabel(\"ps_car_13\",fontsize=15,weight='bold')\n",
    "ax3.set_ylabel(\"Frequency\",fontsize=15,weight='bold')\n",
    "ax4.hist(df['ps_car_14'][df['ps_car_14']!=-1],bins=20,color=(0.6,1.0,0.7))\n",
    "ax4.set_xlabel(\"ps_car_14\",fontsize=15,weight='bold')\n",
    "ax4.set_ylabel(\"Frequency\",fontsize=15,weight='bold')\n",
    "ax5.hist(df['ps_car_15'],bins=20,color=(0.6,1.0,0.7))\n",
    "ax5.set_xlabel(\"ps_car_15\",fontsize=15,weight='bold')\n",
    "ax5.set_ylabel(\"Frequency\",fontsize=15,weight='bold')"
   ]
  },
  {
   "cell_type": "code",
   "execution_count": 99,
   "metadata": {},
   "outputs": [
    {
     "data": {
      "text/plain": [
       "ps_car_11\n",
       "-1    0.000000\n",
       " 0    0.047069\n",
       " 1    0.027267\n",
       " 2    0.038584\n",
       " 3    0.036069\n",
       "Name: target, dtype: float64"
      ]
     },
     "execution_count": 99,
     "metadata": {},
     "output_type": "execute_result"
    }
   ],
   "source": [
    "df_train2.groupby('ps_car_11')['target'].mean()"
   ]
  },
  {
   "cell_type": "code",
   "execution_count": 64,
   "metadata": {},
   "outputs": [
    {
     "data": {
      "text/plain": [
       "Text(0,0.5,u'Frequency')"
      ]
     },
     "execution_count": 64,
     "metadata": {},
     "output_type": "execute_result"
    },
    {
     "data": {
      "image/png": "[encoded data removed]",
      "text/plain": [
       "<matplotlib.figure.Figure at 0x7f5c24609fd0>"
      ]
     },
     "metadata": {},
     "output_type": "display_data"
    }
   ],
   "source": [
    "fig6=plt.figure(figsize=(20,10))\n",
    "ax1=fig6.add_subplot(2,2,1)\n",
    "ax2=fig6.add_subplot(2,2,2)\n",
    "ax3=fig6.add_subplot(2,2,3)\n",
    "ax4=fig6.add_subplot(2,2,4)\n",
    "ax1.hist(df['ps_ind_01'],bins=20,color=(0.3,0.4,0.3))\n",
    "ax1.set_xlabel(\"ps_ind_01\",fontsize=15,weight='bold')\n",
    "ax1.set_ylabel(\"Frequency\",fontsize=15,weight='bold')\n",
    "ax2.hist(df['ps_ind_03'],bins=20,color=(0.4,0.6,0.5))\n",
    "ax2.set_xlabel(\"ps_ind_03\",fontsize=15,weight='bold')\n",
    "ax2.set_ylabel(\"Frequency\",fontsize=15,weight='bold')\n",
    "ax3.hist(df['ps_ind_14'],bins=20,color=(0.5,0.8,0.6))\n",
    "ax3.set_xlabel(\"ps_ind_14\",fontsize=15,weight='bold')\n",
    "ax3.set_ylabel(\"Frequency\",fontsize=15,weight='bold')\n",
    "ax4.hist(df['ps_ind_15'],bins=20,color=(0.6,1.0,0.7))\n",
    "ax4.set_xlabel(\"ps_ind_15\",fontsize=15,weight='bold')\n",
    "ax4.set_ylabel(\"Frequency\",fontsize=15,weight='bold')"
   ]
  },
  {
   "cell_type": "code",
   "execution_count": 100,
   "metadata": {},
   "outputs": [
    {
     "data": {
      "text/plain": [
       "ps_ind_01\n",
       "0    0.033221\n",
       "1    0.033629\n",
       "2    0.036863\n",
       "3    0.040963\n",
       "4    0.045132\n",
       "5    0.040316\n",
       "6    0.043151\n",
       "7    0.042131\n",
       "Name: target, dtype: float64"
      ]
     },
     "execution_count": 100,
     "metadata": {},
     "output_type": "execute_result"
    }
   ],
   "source": [
    "df_train2.groupby('ps_ind_01')['target'].mean()"
   ]
  },
  {
   "cell_type": "code",
   "execution_count": 101,
   "metadata": {},
   "outputs": [
    {
     "data": {
      "text/plain": [
       "ps_ind_03\n",
       "0     0.062846\n",
       "1     0.037136\n",
       "2     0.030340\n",
       "3     0.029559\n",
       "4     0.033163\n",
       "5     0.038820\n",
       "6     0.041800\n",
       "7     0.041422\n",
       "8     0.038949\n",
       "9     0.035383\n",
       "10    0.040527\n",
       "11    0.041074\n",
       "Name: target, dtype: float64"
      ]
     },
     "execution_count": 101,
     "metadata": {},
     "output_type": "execute_result"
    }
   ],
   "source": [
    "df_train2.groupby('ps_ind_03')['target'].mean()"
   ]
  },
  {
   "cell_type": "code",
   "execution_count": 102,
   "metadata": {},
   "outputs": [
    {
     "data": {
      "text/plain": [
       "ps_ind_14\n",
       "0    0.036301\n",
       "1    0.049682\n",
       "2    0.048387\n",
       "3    0.066176\n",
       "4    0.200000\n",
       "Name: target, dtype: float64"
      ]
     },
     "execution_count": 102,
     "metadata": {},
     "output_type": "execute_result"
    }
   ],
   "source": [
    "df_train2.groupby('ps_ind_14')['target'].mean()"
   ]
  },
  {
   "cell_type": "code",
   "execution_count": 103,
   "metadata": {},
   "outputs": [
    {
     "data": {
      "text/plain": [
       "ps_ind_15\n",
       "0     0.042795\n",
       "1     0.046053\n",
       "2     0.044926\n",
       "3     0.038801\n",
       "4     0.038999\n",
       "5     0.039128\n",
       "6     0.039840\n",
       "7     0.039350\n",
       "8     0.035940\n",
       "9     0.030925\n",
       "10    0.034560\n",
       "11    0.030480\n",
       "12    0.030702\n",
       "13    0.030860\n",
       "Name: target, dtype: float64"
      ]
     },
     "execution_count": 103,
     "metadata": {},
     "output_type": "execute_result"
    }
   ],
   "source": [
    "df_train2.groupby('ps_ind_15')['target'].mean()"
   ]
  },
  {
   "cell_type": "code",
   "execution_count": 74,
   "metadata": {},
   "outputs": [
    {
     "data": {
      "text/plain": [
       "Text(0,0.5,u'Frequency')"
      ]
     },
     "execution_count": 74,
     "metadata": {},
     "output_type": "execute_result"
    },
    {
     "data": {
      "image/png": "[encoded data removed]",
      "text/plain": [
       "<matplotlib.figure.Figure at 0x7f5c24073390>"
      ]
     },
     "metadata": {},
     "output_type": "display_data"
    }
   ],
   "source": [
    "fig7=plt.figure(figsize=(20,10))\n",
    "ax1=fig7.add_subplot(2,2,1)\n",
    "ax2=fig7.add_subplot(2,2,2)\n",
    "ax3=fig7.add_subplot(2,2,3)\n",
    "ax1.hist(df['ps_reg_01'],bins=20,color=(0.3,0.4,0.3))\n",
    "ax1.set_xlabel(\"ps_reg_01\",fontsize=15,weight='bold')\n",
    "ax1.set_ylabel(\"Frequency\",fontsize=15,weight='bold')\n",
    "ax2.hist(df['ps_reg_02'],bins=20,color=(0.4,0.6,0.5))\n",
    "ax2.set_xlabel(\"ps_reg_02\",fontsize=15,weight='bold')\n",
    "ax2.set_ylabel(\"Frequency\",fontsize=15,weight='bold')\n",
    "ax3.hist(df['ps_reg_03'][df['ps_reg_03']!=-1],bins=20,color=(0.5,0.8,0.6))\n",
    "ax3.set_xlabel(\"ps_reg_03\",fontsize=15,weight='bold')\n",
    "ax3.set_ylabel(\"Frequency\",fontsize=15,weight='bold')\n"
   ]
  },
  {
   "cell_type": "code",
   "execution_count": 105,
   "metadata": {},
   "outputs": [
    {
     "data": {
      "text/plain": [
       "ps_reg_01\n",
       "0.0    0.039249\n",
       "0.1    0.023824\n",
       "0.2    0.027317\n",
       "0.3    0.031919\n",
       "0.4    0.034498\n",
       "0.5    0.031168\n",
       "0.6    0.036182\n",
       "0.7    0.038617\n",
       "0.8    0.038555\n",
       "0.9    0.041134\n",
       "Name: target, dtype: float64"
      ]
     },
     "execution_count": 105,
     "metadata": {},
     "output_type": "execute_result"
    }
   ],
   "source": [
    "df_train2.groupby('ps_reg_01')['target'].mean()"
   ]
  },
  {
   "cell_type": "markdown",
   "metadata": {},
   "source": [
    "** Categorical_predictors**"
   ]
  },
  {
   "cell_type": "code",
   "execution_count": 106,
   "metadata": {},
   "outputs": [],
   "source": [
    "list_categorical_columns.append('target')\n",
    "df_categoricals=df[list_categorical_columns]"
   ]
  },
  {
   "cell_type": "code",
   "execution_count": 108,
   "metadata": {},
   "outputs": [
    {
     "name": "stdout",
     "output_type": "stream",
     "text": [
      "Categories in ps_calc_15_bin is 2\n",
      "set([0, 1])\n",
      "Categories in ps_calc_16_bin is 2\n",
      "set([0, 1])\n",
      "Categories in ps_calc_17_bin is 2\n",
      "set([0, 1])\n",
      "Categories in ps_calc_18_bin is 2\n",
      "set([0, 1])\n",
      "Categories in ps_calc_19_bin is 2\n",
      "set([0, 1])\n",
      "Categories in ps_calc_20_bin is 2\n",
      "set([0, 1])\n",
      "Categories in ps_car_01_cat is 13\n",
      "set([0, 1, 2, 3, 4, 5, 6, 7, 8, 9, 10, 11, -1])\n",
      "Categories in ps_car_02_cat is 3\n",
      "set([0, 1, -1])\n",
      "Categories in ps_car_03_cat is 3\n",
      "set([0, 1, -1])\n",
      "Categories in ps_car_04_cat is 10\n",
      "set([0, 1, 2, 3, 4, 5, 6, 7, 8, 9])\n",
      "Categories in ps_car_05_cat is 3\n",
      "set([0, 1, -1])\n",
      "Categories in ps_car_06_cat is 18\n",
      "set([0, 1, 2, 3, 4, 5, 6, 7, 8, 9, 10, 11, 12, 13, 14, 15, 16, 17])\n",
      "Categories in ps_car_07_cat is 3\n",
      "set([0, 1, -1])\n",
      "Categories in ps_car_08_cat is 2\n",
      "set([0, 1])\n",
      "Categories in ps_car_09_cat is 6\n",
      "set([0, 1, 2, 3, 4, -1])\n",
      "Categories in ps_car_10_cat is 3\n",
      "set([0, 1, 2])\n",
      "Categories in ps_car_11_cat is 104\n",
      "set([1, 2, 3, 4, 5, 6, 7, 8, 9, 10, 11, 12, 13, 14, 15, 16, 17, 18, 19, 20, 21, 22, 23, 24, 25, 26, 27, 28, 29, 30, 31, 32, 33, 34, 35, 36, 37, 38, 39, 40, 41, 42, 43, 44, 45, 46, 47, 48, 49, 50, 51, 52, 53, 54, 55, 56, 57, 58, 59, 60, 61, 62, 63, 64, 65, 66, 67, 68, 69, 70, 71, 72, 73, 74, 75, 76, 77, 78, 79, 80, 81, 82, 83, 84, 85, 86, 87, 88, 89, 90, 91, 92, 93, 94, 95, 96, 97, 98, 99, 100, 101, 102, 103, 104])\n",
      "Categories in ps_ind_02_cat is 5\n",
      "set([1, 2, 3, 4, -1])\n",
      "Categories in ps_ind_04_cat is 3\n",
      "set([0, 1, -1])\n",
      "Categories in ps_ind_05_cat is 8\n",
      "set([0, 1, 2, 3, 4, 5, 6, -1])\n",
      "Categories in ps_ind_06_bin is 2\n",
      "set([0, 1])\n",
      "Categories in ps_ind_07_bin is 2\n",
      "set([0, 1])\n",
      "Categories in ps_ind_08_bin is 2\n",
      "set([0, 1])\n",
      "Categories in ps_ind_09_bin is 2\n",
      "set([0, 1])\n",
      "Categories in ps_ind_10_bin is 2\n",
      "set([0, 1])\n",
      "Categories in ps_ind_11_bin is 2\n",
      "set([0, 1])\n",
      "Categories in ps_ind_12_bin is 2\n",
      "set([0, 1])\n",
      "Categories in ps_ind_13_bin is 2\n",
      "set([0, 1])\n",
      "Categories in ps_ind_16_bin is 2\n",
      "set([0, 1])\n",
      "Categories in ps_ind_17_bin is 2\n",
      "set([0, 1])\n",
      "Categories in ps_ind_18_bin is 2\n",
      "set([0, 1])\n",
      "Categories in target is 3\n",
      "set([0.0, 1.0, nan])\n"
     ]
    }
   ],
   "source": [
    "for p in list_categorical_columns:\n",
    "    print(\"Categories in %s is %d\"%(p,len(df_categoricals[p].unique())))\n",
    "    print(set(df_categoricals[p].unique()))"
   ]
  },
  {
   "cell_type": "code",
   "execution_count": 109,
   "metadata": {},
   "outputs": [],
   "source": [
    "df_train3=df_categoricals[~(df_categoricals['target'].isnull())]"
   ]
  },
  {
   "cell_type": "code",
   "execution_count": 110,
   "metadata": {},
   "outputs": [
    {
     "data": {
      "text/plain": [
       "ps_calc_15_bin\n",
       "0    0.036482\n",
       "1    0.036201\n",
       "Name: target, dtype: float64"
      ]
     },
     "execution_count": 110,
     "metadata": {},
     "output_type": "execute_result"
    }
   ],
   "source": [
    "df_train3.groupby('ps_calc_15_bin')['target'].mean()"
   ]
  },
  {
   "cell_type": "code",
   "execution_count": 111,
   "metadata": {},
   "outputs": [
    {
     "data": {
      "text/plain": [
       "ps_calc_16_bin\n",
       "0    0.036296\n",
       "1    0.036538\n",
       "Name: target, dtype: float64"
      ]
     },
     "execution_count": 111,
     "metadata": {},
     "output_type": "execute_result"
    }
   ],
   "source": [
    "df_train3.groupby('ps_calc_16_bin')['target'].mean()"
   ]
  },
  {
   "cell_type": "code",
   "execution_count": 112,
   "metadata": {},
   "outputs": [
    {
     "data": {
      "text/plain": [
       "ps_calc_17_bin\n",
       "0    0.036483\n",
       "1    0.036419\n",
       "Name: target, dtype: float64"
      ]
     },
     "execution_count": 112,
     "metadata": {},
     "output_type": "execute_result"
    }
   ],
   "source": [
    "df_train3.groupby('ps_calc_17_bin')['target'].mean()"
   ]
  },
  {
   "cell_type": "code",
   "execution_count": 113,
   "metadata": {},
   "outputs": [
    {
     "data": {
      "text/plain": [
       "ps_calc_18_bin\n",
       "0    0.036382\n",
       "1    0.036611\n",
       "Name: target, dtype: float64"
      ]
     },
     "execution_count": 113,
     "metadata": {},
     "output_type": "execute_result"
    }
   ],
   "source": [
    "df_train3.groupby('ps_calc_18_bin')['target'].mean()"
   ]
  },
  {
   "cell_type": "code",
   "execution_count": 114,
   "metadata": {},
   "outputs": [
    {
     "data": {
      "text/plain": [
       "ps_calc_19_bin\n",
       "0    0.036687\n",
       "1    0.036001\n",
       "Name: target, dtype: float64"
      ]
     },
     "execution_count": 114,
     "metadata": {},
     "output_type": "execute_result"
    }
   ],
   "source": [
    "df_train3.groupby('ps_calc_19_bin')['target'].mean()"
   ]
  },
  {
   "cell_type": "code",
   "execution_count": 115,
   "metadata": {},
   "outputs": [
    {
     "data": {
      "text/plain": [
       "ps_calc_20_bin\n",
       "0    0.036533\n",
       "1    0.035975\n",
       "Name: target, dtype: float64"
      ]
     },
     "execution_count": 115,
     "metadata": {},
     "output_type": "execute_result"
    }
   ],
   "source": [
    "df_train3.groupby('ps_calc_20_bin')['target'].mean()"
   ]
  },
  {
   "cell_type": "code",
   "execution_count": 116,
   "metadata": {},
   "outputs": [
    {
     "data": {
      "text/plain": [
       "ps_car_01_cat\n",
       "-1     0.317757\n",
       " 0     0.043869\n",
       " 1     0.046818\n",
       " 2     0.042910\n",
       " 3     0.037549\n",
       " 4     0.039161\n",
       " 5     0.039246\n",
       " 6     0.029763\n",
       " 7     0.028770\n",
       " 8     0.043398\n",
       " 9     0.054421\n",
       " 10    0.036976\n",
       " 11    0.041581\n",
       "Name: target, dtype: float64"
      ]
     },
     "execution_count": 116,
     "metadata": {},
     "output_type": "execute_result"
    }
   ],
   "source": [
    "df_train3.groupby('ps_car_01_cat')['target'].mean()"
   ]
  },
  {
   "cell_type": "code",
   "execution_count": 142,
   "metadata": {},
   "outputs": [
    {
     "name": "stderr",
     "output_type": "stream",
     "text": [
      "/usr/local/lib/python2.7/dist-packages/ipykernel_launcher.py:1: SettingWithCopyWarning: \n",
      "A value is trying to be set on a copy of a slice from a DataFrame\n",
      "\n",
      "See the caveats in the documentation: http://pandas.pydata.org/pandas-docs/stable/indexing.html#indexing-view-versus-copy\n",
      "  \"\"\"Entry point for launching an IPython kernel.\n",
      "/usr/local/lib/python2.7/dist-packages/pandas/core/generic.py:5233: SettingWithCopyWarning: \n",
      "A value is trying to be set on a copy of a slice from a DataFrame\n",
      "\n",
      "See the caveats in the documentation: http://pandas.pydata.org/pandas-docs/stable/indexing.html#indexing-view-versus-copy\n",
      "  self._update_inplace(new_data)\n",
      "/usr/local/lib/python2.7/dist-packages/IPython/core/interactiveshell.py:2882: SettingWithCopyWarning: \n",
      "A value is trying to be set on a copy of a slice from a DataFrame\n",
      "\n",
      "See the caveats in the documentation: http://pandas.pydata.org/pandas-docs/stable/indexing.html#indexing-view-versus-copy\n",
      "  exec(code_obj, self.user_global_ns, self.user_ns)\n"
     ]
    }
   ],
   "source": [
    "df_train3['ps_car_01_cat'][df_train3['ps_car_01_cat']==-1]=6"
   ]
  },
  {
   "cell_type": "code",
   "execution_count": 117,
   "metadata": {},
   "outputs": [
    {
     "data": {
      "text/plain": [
       "ps_car_02_cat\n",
       "-1    0.000000\n",
       " 0    0.049507\n",
       " 1    0.033772\n",
       "Name: target, dtype: float64"
      ]
     },
     "execution_count": 117,
     "metadata": {},
     "output_type": "execute_result"
    }
   ],
   "source": [
    "df_train3.groupby('ps_car_02_cat')['target'].mean()"
   ]
  },
  {
   "cell_type": "code",
   "execution_count": 118,
   "metadata": {},
   "outputs": [
    {
     "data": {
      "text/plain": [
       "ps_car_03_cat\n",
       "-1    0.032707\n",
       " 0    0.039538\n",
       " 1    0.048298\n",
       "Name: target, dtype: float64"
      ]
     },
     "execution_count": 118,
     "metadata": {},
     "output_type": "execute_result"
    }
   ],
   "source": [
    "df_train3.groupby('ps_car_03_cat')['target'].mean()"
   ]
  },
  {
   "cell_type": "code",
   "execution_count": 119,
   "metadata": {},
   "outputs": [
    {
     "data": {
      "text/plain": [
       "ps_car_04_cat\n",
       "0    0.033451\n",
       "1    0.048825\n",
       "2    0.047202\n",
       "3    0.051562\n",
       "4    0.021739\n",
       "5    0.071560\n",
       "6    0.058974\n",
       "7    0.093525\n",
       "8    0.050151\n",
       "9    0.061889\n",
       "Name: target, dtype: float64"
      ]
     },
     "execution_count": 119,
     "metadata": {},
     "output_type": "execute_result"
    }
   ],
   "source": [
    "df_train3.groupby('ps_car_04_cat')['target'].mean()"
   ]
  },
  {
   "cell_type": "code",
   "execution_count": 120,
   "metadata": {},
   "outputs": [
    {
     "data": {
      "text/plain": [
       "ps_car_05_cat\n",
       "-1    0.031709\n",
       " 0    0.040111\n",
       " 1    0.040454\n",
       "Name: target, dtype: float64"
      ]
     },
     "execution_count": 120,
     "metadata": {},
     "output_type": "execute_result"
    }
   ],
   "source": [
    "df_train3.groupby('ps_car_05_cat')['target'].mean()"
   ]
  },
  {
   "cell_type": "code",
   "execution_count": 121,
   "metadata": {},
   "outputs": [
    {
     "data": {
      "text/plain": [
       "ps_car_06_cat\n",
       "0     0.033373\n",
       "1     0.034185\n",
       "2     0.065961\n",
       "3     0.038176\n",
       "4     0.033851\n",
       "5     0.067095\n",
       "6     0.036800\n",
       "7     0.038804\n",
       "8     0.069405\n",
       "9     0.055004\n",
       "10    0.044104\n",
       "11    0.031720\n",
       "12    0.048617\n",
       "13    0.056996\n",
       "14    0.034294\n",
       "15    0.051123\n",
       "16    0.045177\n",
       "17    0.063830\n",
       "Name: target, dtype: float64"
      ]
     },
     "execution_count": 121,
     "metadata": {},
     "output_type": "execute_result"
    }
   ],
   "source": [
    "df_train3.groupby('ps_car_06_cat')['target'].mean()"
   ]
  },
  {
   "cell_type": "code",
   "execution_count": 122,
   "metadata": {},
   "outputs": [
    {
     "data": {
      "text/plain": [
       "ps_car_07_cat\n",
       "-1    0.078162\n",
       " 0    0.051186\n",
       " 1    0.034766\n",
       "Name: target, dtype: float64"
      ]
     },
     "execution_count": 122,
     "metadata": {},
     "output_type": "execute_result"
    }
   ],
   "source": [
    "df_train3.groupby('ps_car_07_cat')['target'].mean()"
   ]
  },
  {
   "cell_type": "code",
   "execution_count": 123,
   "metadata": {},
   "outputs": [
    {
     "data": {
      "text/plain": [
       "ps_car_08_cat\n",
       "0    0.044933\n",
       "1    0.034735\n",
       "Name: target, dtype: float64"
      ]
     },
     "execution_count": 123,
     "metadata": {},
     "output_type": "execute_result"
    }
   ],
   "source": [
    "df_train3.groupby('ps_car_08_cat')['target'].mean()"
   ]
  },
  {
   "cell_type": "code",
   "execution_count": 124,
   "metadata": {},
   "outputs": [
    {
     "data": {
      "text/plain": [
       "ps_car_09_cat\n",
       "-1    0.091388\n",
       " 0    0.033344\n",
       " 1    0.056946\n",
       " 2    0.036319\n",
       " 3    0.035104\n",
       " 4    0.051300\n",
       "Name: target, dtype: float64"
      ]
     },
     "execution_count": 124,
     "metadata": {},
     "output_type": "execute_result"
    }
   ],
   "source": [
    "df_train3.groupby('ps_car_09_cat')['target'].mean()"
   ]
  },
  {
   "cell_type": "code",
   "execution_count": 125,
   "metadata": {},
   "outputs": [
    {
     "data": {
      "text/plain": [
       "ps_car_10_cat\n",
       "0    0.034383\n",
       "1    0.036464\n",
       "2    0.039773\n",
       "Name: target, dtype: float64"
      ]
     },
     "execution_count": 125,
     "metadata": {},
     "output_type": "execute_result"
    }
   ],
   "source": [
    "df_train3.groupby('ps_car_10_cat')['target'].mean()"
   ]
  },
  {
   "cell_type": "code",
   "execution_count": 126,
   "metadata": {},
   "outputs": [
    {
     "data": {
      "text/plain": [
       "ps_car_11_cat\n",
       "1      0.040528\n",
       "2      0.037995\n",
       "3      0.051177\n",
       "4      0.060777\n",
       "5      0.041956\n",
       "6      0.037097\n",
       "7      0.025473\n",
       "8      0.037485\n",
       "9      0.028042\n",
       "10     0.025653\n",
       "11     0.027695\n",
       "12     0.038642\n",
       "13     0.050725\n",
       "14     0.040389\n",
       "15     0.035106\n",
       "16     0.025974\n",
       "17     0.045593\n",
       "18     0.066504\n",
       "19     0.023936\n",
       "20     0.044913\n",
       "21     0.058581\n",
       "22     0.032852\n",
       "23     0.038369\n",
       "24     0.039099\n",
       "25     0.041516\n",
       "26     0.033913\n",
       "27     0.035413\n",
       "28     0.042431\n",
       "29     0.036266\n",
       "30     0.030577\n",
       "         ...   \n",
       "75     0.063170\n",
       "76     0.034152\n",
       "77     0.033264\n",
       "78     0.038724\n",
       "79     0.044733\n",
       "80     0.039580\n",
       "81     0.041172\n",
       "82     0.026266\n",
       "83     0.039117\n",
       "84     0.029839\n",
       "85     0.031839\n",
       "86     0.033342\n",
       "87     0.031626\n",
       "88     0.029405\n",
       "89     0.046720\n",
       "90     0.045188\n",
       "91     0.039717\n",
       "92     0.036274\n",
       "93     0.058683\n",
       "94     0.049239\n",
       "95     0.027544\n",
       "96     0.032320\n",
       "97     0.059299\n",
       "98     0.030877\n",
       "99     0.023003\n",
       "100    0.052418\n",
       "101    0.038289\n",
       "102    0.033761\n",
       "103    0.026667\n",
       "104    0.045015\n",
       "Name: target, Length: 104, dtype: float64"
      ]
     },
     "execution_count": 126,
     "metadata": {},
     "output_type": "execute_result"
    }
   ],
   "source": [
    "df_train3.groupby('ps_car_11_cat')['target'].mean()"
   ]
  },
  {
   "cell_type": "code",
   "execution_count": 127,
   "metadata": {},
   "outputs": [
    {
     "data": {
      "text/plain": [
       "ps_ind_02_cat\n",
       "-1    0.185185\n",
       " 1    0.035725\n",
       " 2    0.038139\n",
       " 3    0.037217\n",
       " 4    0.040780\n",
       "Name: target, dtype: float64"
      ]
     },
     "execution_count": 127,
     "metadata": {},
     "output_type": "execute_result"
    }
   ],
   "source": [
    "df_train3.groupby('ps_ind_02_cat')['target'].mean()"
   ]
  },
  {
   "cell_type": "code",
   "execution_count": 128,
   "metadata": {},
   "outputs": [
    {
     "data": {
      "text/plain": [
       "ps_ind_04_cat\n",
       "-1    0.397590\n",
       " 0    0.034790\n",
       " 1    0.038644\n",
       "Name: target, dtype: float64"
      ]
     },
     "execution_count": 128,
     "metadata": {},
     "output_type": "execute_result"
    }
   ],
   "source": [
    "df_train3.groupby('ps_ind_04_cat')['target'].mean()"
   ]
  },
  {
   "cell_type": "code",
   "execution_count": 129,
   "metadata": {},
   "outputs": [
    {
     "data": {
      "text/plain": [
       "ps_ind_05_cat\n",
       "-1    0.083319\n",
       " 0    0.033865\n",
       " 1    0.047825\n",
       " 2    0.075526\n",
       " 3    0.042998\n",
       " 4    0.052061\n",
       " 5    0.048514\n",
       " 6    0.059336\n",
       "Name: target, dtype: float64"
      ]
     },
     "execution_count": 129,
     "metadata": {},
     "output_type": "execute_result"
    }
   ],
   "source": [
    "df_train3.groupby('ps_ind_05_cat')['target'].mean()"
   ]
  },
  {
   "cell_type": "code",
   "execution_count": 130,
   "metadata": {},
   "outputs": [
    {
     "data": {
      "text/plain": [
       "ps_ind_06_bin\n",
       "0    0.041585\n",
       "1    0.028537\n",
       "Name: target, dtype: float64"
      ]
     },
     "execution_count": 130,
     "metadata": {},
     "output_type": "execute_result"
    }
   ],
   "source": [
    "df_train3.groupby('ps_ind_06_bin')['target'].mean()"
   ]
  },
  {
   "cell_type": "code",
   "execution_count": 131,
   "metadata": {},
   "outputs": [
    {
     "data": {
      "text/plain": [
       "ps_ind_07_bin\n",
       "0    0.032676\n",
       "1    0.047350\n",
       "Name: target, dtype: float64"
      ]
     },
     "execution_count": 131,
     "metadata": {},
     "output_type": "execute_result"
    }
   ],
   "source": [
    "df_train3.groupby('ps_ind_07_bin')['target'].mean()"
   ]
  },
  {
   "cell_type": "code",
   "execution_count": 132,
   "metadata": {},
   "outputs": [
    {
     "data": {
      "text/plain": [
       "ps_ind_08_bin\n",
       "0    0.035357\n",
       "1    0.042012\n",
       "Name: target, dtype: float64"
      ]
     },
     "execution_count": 132,
     "metadata": {},
     "output_type": "execute_result"
    }
   ],
   "source": [
    "df_train3.groupby('ps_ind_08_bin')['target'].mean()"
   ]
  },
  {
   "cell_type": "code",
   "execution_count": 133,
   "metadata": {},
   "outputs": [
    {
     "data": {
      "text/plain": [
       "ps_ind_09_bin\n",
       "0    0.037184\n",
       "1    0.033211\n",
       "Name: target, dtype: float64"
      ]
     },
     "execution_count": 133,
     "metadata": {},
     "output_type": "execute_result"
    }
   ],
   "source": [
    "df_train3.groupby('ps_ind_09_bin')['target'].mean()"
   ]
  },
  {
   "cell_type": "code",
   "execution_count": 134,
   "metadata": {},
   "outputs": [
    {
     "data": {
      "text/plain": [
       "ps_ind_10_bin\n",
       "0    0.036441\n",
       "1    0.054054\n",
       "Name: target, dtype: float64"
      ]
     },
     "execution_count": 134,
     "metadata": {},
     "output_type": "execute_result"
    }
   ],
   "source": [
    "df_train3.groupby('ps_ind_10_bin')['target'].mean()"
   ]
  },
  {
   "cell_type": "code",
   "execution_count": 135,
   "metadata": {},
   "outputs": [
    {
     "data": {
      "text/plain": [
       "ps_ind_11_bin\n",
       "0    0.036432\n",
       "1    0.045680\n",
       "Name: target, dtype: float64"
      ]
     },
     "execution_count": 135,
     "metadata": {},
     "output_type": "execute_result"
    }
   ],
   "source": [
    "df_train3.groupby('ps_ind_11_bin')['target'].mean()"
   ]
  },
  {
   "cell_type": "code",
   "execution_count": 136,
   "metadata": {},
   "outputs": [
    {
     "data": {
      "text/plain": [
       "ps_ind_12_bin\n",
       "0    0.036305\n",
       "1    0.051442\n",
       "Name: target, dtype: float64"
      ]
     },
     "execution_count": 136,
     "metadata": {},
     "output_type": "execute_result"
    }
   ],
   "source": [
    "df_train3.groupby('ps_ind_12_bin')['target'].mean()"
   ]
  },
  {
   "cell_type": "code",
   "execution_count": 137,
   "metadata": {},
   "outputs": [
    {
     "data": {
      "text/plain": [
       "ps_ind_13_bin\n",
       "0    0.036433\n",
       "1    0.051418\n",
       "Name: target, dtype: float64"
      ]
     },
     "execution_count": 137,
     "metadata": {},
     "output_type": "execute_result"
    }
   ],
   "source": [
    "df_train3.groupby('ps_ind_13_bin')['target'].mean()"
   ]
  },
  {
   "cell_type": "code",
   "execution_count": 138,
   "metadata": {},
   "outputs": [
    {
     "data": {
      "text/plain": [
       "ps_ind_16_bin\n",
       "0    0.043714\n",
       "1    0.032718\n",
       "Name: target, dtype: float64"
      ]
     },
     "execution_count": 138,
     "metadata": {},
     "output_type": "execute_result"
    }
   ],
   "source": [
    "df_train3.groupby('ps_ind_16_bin')['target'].mean()"
   ]
  },
  {
   "cell_type": "code",
   "execution_count": 139,
   "metadata": {},
   "outputs": [
    {
     "data": {
      "text/plain": [
       "ps_ind_17_bin\n",
       "0    0.033870\n",
       "1    0.055155\n",
       "Name: target, dtype: float64"
      ]
     },
     "execution_count": 139,
     "metadata": {},
     "output_type": "execute_result"
    }
   ],
   "source": [
    "df_train3.groupby('ps_ind_17_bin')['target'].mean()"
   ]
  },
  {
   "cell_type": "code",
   "execution_count": 140,
   "metadata": {},
   "outputs": [
    {
     "data": {
      "text/plain": [
       "ps_ind_18_bin\n",
       "0    0.036084\n",
       "1    0.038453\n",
       "Name: target, dtype: float64"
      ]
     },
     "execution_count": 140,
     "metadata": {},
     "output_type": "execute_result"
    }
   ],
   "source": [
    "df_train3.groupby('ps_ind_18_bin')['target'].mean()"
   ]
  },
  {
   "cell_type": "code",
   "execution_count": 141,
   "metadata": {},
   "outputs": [],
   "source": [
    "df_train3.to_csv(\"categoricals.csv\")"
   ]
  }
 ],
 "metadata": {
  "kernelspec": {
   "display_name": "Python 2",
   "language": "python",
   "name": "python2"
  },
  "language_info": {
   "codemirror_mode": {
    "name": "ipython",
    "version": 2
   },
   "file_extension": ".py",
   "mimetype": "text/x-python",
   "name": "python",
   "nbconvert_exporter": "python",
   "pygments_lexer": "ipython2",
   "version": "2.7.12"
  }
 },
 "nbformat": 4,
 "nbformat_minor": 2
}
