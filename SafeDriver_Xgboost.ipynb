{
 "cells": [
  {
   "cell_type": "code",
   "execution_count": 16,
   "metadata": {},
   "outputs": [],
   "source": [
    "import pandas as pd\n",
    "import numpy as np\n",
    "import matplotlib.pyplot as plt\n",
    "%matplotlib inline\n",
    "from sklearn.model_selection import GridSearchCV\n",
    "import xgboost as xgb\n",
    "from xgboost.sklearn import XGBClassifier\n",
    "from sklearn.model_selection import train_test_split\n",
    "from sklearn.metrics import confusion_matrix\n",
    "from sklearn import metrics\n",
    "from sklearn.metrics import make_scorer\n",
    "from sklearn.metrics import roc_auc_score\n",
    "from sklearn.model_selection import cross_val_score\n",
    "from __future__ import division\n",
    "import warnings\n",
    "warnings.filterwarnings(\"ignore\")"
   ]
  },
  {
   "cell_type": "markdown",
   "metadata": {},
   "source": [
    "This imbalanced problem can be approched in multiple ways. First, since the data size is high and the number of positive samples \n",
    "are only 3.6 % , undersampling techniques can be employed to undersample the majority class. This leads to loss of some information .In the second approach we can use ensemble learning methods such as balance cascade which divides the data into\n",
    "balanced data sets ,retaining all the information. Third, using XGB model on the whole model and using sample weights for giving more importance.\n",
    "\n",
    "After trying all the above mentioned methods,we have decided to go with third approach which is giving better results."
   ]
  },
  {
   "cell_type": "markdown",
   "metadata": {},
   "source": [
    "In the given data set, the raw features are encoded, so it is not possible to do any feature engineering for this problem. This \n",
    "issue has created a major block in attaining good accuracies"
   ]
  },
  {
   "cell_type": "markdown",
   "metadata": {},
   "source": [
    "** Importing the training Data **"
   ]
  },
  {
   "cell_type": "code",
   "execution_count": 3,
   "metadata": {},
   "outputs": [],
   "source": [
    "df=pd.read_csv(\"final_train.csv\")"
   ]
  },
  {
   "cell_type": "code",
   "execution_count": 4,
   "metadata": {},
   "outputs": [
    {
     "data": {
      "text/plain": [
       "Index([u'Unnamed: 0', u'id', u'ps_calc_01', u'ps_calc_02', u'ps_calc_03',\n",
       "       u'ps_calc_04', u'ps_calc_05', u'ps_calc_06', u'ps_calc_07',\n",
       "       u'ps_calc_08',\n",
       "       ...\n",
       "       u'ps_ind_02_cat-4', u'ps_ind_04_cat-0', u'ps_ind_04_cat-1',\n",
       "       u'ps_ind_05_cat-0', u'ps_ind_05_cat-1', u'ps_ind_05_cat-2',\n",
       "       u'ps_ind_05_cat-3', u'ps_ind_05_cat-4', u'ps_ind_05_cat-5',\n",
       "       u'ps_ind_05_cat-6'],\n",
       "      dtype='object', length=216)"
      ]
     },
     "execution_count": 4,
     "metadata": {},
     "output_type": "execute_result"
    }
   ],
   "source": [
    "df.columns"
   ]
  },
  {
   "cell_type": "code",
   "execution_count": 5,
   "metadata": {},
   "outputs": [],
   "source": [
    "del(df[u'Unnamed: 0'])\n",
    "del(df[u'id'])"
   ]
  },
  {
   "cell_type": "code",
   "execution_count": 6,
   "metadata": {},
   "outputs": [],
   "source": [
    "list_predictors=list(df.columns)\n",
    "list_predictors.remove('target')\n",
    "X=df[list_predictors].get_values()\n",
    "Y=df['target'].get_values()"
   ]
  },
  {
   "cell_type": "code",
   "execution_count": 7,
   "metadata": {},
   "outputs": [],
   "source": [
    "X_train,X_test,Y_train,Y_test=train_test_split(X,Y,test_size=0.25,random_state=42,stratify=Y)"
   ]
  },
  {
   "cell_type": "code",
   "execution_count": 8,
   "metadata": {},
   "outputs": [
    {
     "name": "stdout",
     "output_type": "stream",
     "text": [
      "The hit rate in train data: 0.036\n",
      "The hit rate in test data: 0.036\n"
     ]
    }
   ],
   "source": [
    "print(\"The hit rate in train data: %.3f\" %(Y_train.mean()))\n",
    "print(\"The hit rate in test data: %.3f\" %(Y_test.mean()))"
   ]
  },
  {
   "cell_type": "markdown",
   "metadata": {},
   "source": [
    "Since feature engineering is not possible, we will tune the hyperparameters of the model to attain highest AUC"
   ]
  },
  {
   "cell_type": "code",
   "execution_count": 9,
   "metadata": {},
   "outputs": [],
   "source": [
    "#Data Frames for training after randomised split\n",
    "df_train_predictors=pd.DataFrame(X_train,columns=list_predictors)\n",
    "df_train_labels=pd.DataFrame(Y_train,columns=['target'])"
   ]
  },
  {
   "cell_type": "code",
   "execution_count": 10,
   "metadata": {},
   "outputs": [],
   "source": [
    "#Data Frames for training after randomised split\n",
    "df_test_predictors=pd.DataFrame(X_test,columns=list_predictors)\n",
    "df_test_labels=pd.DataFrame(Y_test,columns=['target'])"
   ]
  },
  {
   "cell_type": "markdown",
   "metadata": {},
   "source": [
    "Step1 : Start with some default hyperparameters"
   ]
  },
  {
   "cell_type": "code",
   "execution_count": 11,
   "metadata": {},
   "outputs": [],
   "source": [
    "XGB=XGBClassifier(max_depth=3, learning_rate=0.1, n_estimators=1000, silent=False, objective='binary:logistic', booster='gbtree', n_jobs=1, nthread=None, gamma=0, min_child_weight=1, max_delta_step=0, subsample=1, colsample_bytree=1, colsample_bylevel=1, reg_alpha=0, reg_lambda=1, scale_pos_weight=15, base_score=0.5, random_state=0, seed=0, missing=None)"
   ]
  },
  {
   "cell_type": "code",
   "execution_count": 12,
   "metadata": {
    "scrolled": true
   },
   "outputs": [
    {
     "name": "stderr",
     "output_type": "stream",
     "text": [
      "/usr/local/lib/python2.7/dist-packages/sklearn/preprocessing/label.py:95: DataConversionWarning: A column-vector y was passed when a 1d array was expected. Please change the shape of y to (n_samples, ), for example using ravel().\n",
      "  y = column_or_1d(y, warn=True)\n",
      "/usr/local/lib/python2.7/dist-packages/sklearn/preprocessing/label.py:128: DataConversionWarning: A column-vector y was passed when a 1d array was expected. Please change the shape of y to (n_samples, ), for example using ravel().\n",
      "  y = column_or_1d(y, warn=True)\n"
     ]
    },
    {
     "name": "stdout",
     "output_type": "stream",
     "text": [
      "[0]\tvalidation_0-auc:0.591476\n",
      "Will train until validation_0-auc hasn't improved in 50 rounds.\n",
      "[1]\tvalidation_0-auc:0.595975\n",
      "[2]\tvalidation_0-auc:0.602613\n",
      "[3]\tvalidation_0-auc:0.608549\n",
      "[4]\tvalidation_0-auc:0.60917\n",
      "[5]\tvalidation_0-auc:0.613519\n",
      "[6]\tvalidation_0-auc:0.616597\n",
      "[7]\tvalidation_0-auc:0.61802\n",
      "[8]\tvalidation_0-auc:0.619402\n",
      "[9]\tvalidation_0-auc:0.620097\n",
      "[10]\tvalidation_0-auc:0.620543\n",
      "[11]\tvalidation_0-auc:0.621739\n",
      "[12]\tvalidation_0-auc:0.622338\n",
      "[13]\tvalidation_0-auc:0.622913\n",
      "[14]\tvalidation_0-auc:0.624365\n",
      "[15]\tvalidation_0-auc:0.624535\n",
      "[16]\tvalidation_0-auc:0.625862\n",
      "[17]\tvalidation_0-auc:0.626534\n",
      "[18]\tvalidation_0-auc:0.626687\n",
      "[19]\tvalidation_0-auc:0.627232\n",
      "[20]\tvalidation_0-auc:0.628326\n",
      "[21]\tvalidation_0-auc:0.628755\n",
      "[22]\tvalidation_0-auc:0.629146\n",
      "[23]\tvalidation_0-auc:0.629643\n",
      "[24]\tvalidation_0-auc:0.630028\n",
      "[25]\tvalidation_0-auc:0.630518\n",
      "[26]\tvalidation_0-auc:0.630795\n",
      "[27]\tvalidation_0-auc:0.630821\n",
      "[28]\tvalidation_0-auc:0.631002\n",
      "[29]\tvalidation_0-auc:0.631747\n",
      "[30]\tvalidation_0-auc:0.632283\n",
      "[31]\tvalidation_0-auc:0.63261\n",
      "[32]\tvalidation_0-auc:0.63289\n",
      "[33]\tvalidation_0-auc:0.633616\n",
      "[34]\tvalidation_0-auc:0.633832\n",
      "[35]\tvalidation_0-auc:0.63411\n",
      "[36]\tvalidation_0-auc:0.634431\n",
      "[37]\tvalidation_0-auc:0.634388\n",
      "[38]\tvalidation_0-auc:0.634473\n",
      "[39]\tvalidation_0-auc:0.634815\n",
      "[40]\tvalidation_0-auc:0.63554\n",
      "[41]\tvalidation_0-auc:0.635496\n",
      "[42]\tvalidation_0-auc:0.635362\n",
      "[43]\tvalidation_0-auc:0.635511\n",
      "[44]\tvalidation_0-auc:0.635668\n",
      "[45]\tvalidation_0-auc:0.635761\n",
      "[46]\tvalidation_0-auc:0.63607\n",
      "[47]\tvalidation_0-auc:0.636134\n",
      "[48]\tvalidation_0-auc:0.636133\n",
      "[49]\tvalidation_0-auc:0.636629\n",
      "[50]\tvalidation_0-auc:0.636727\n",
      "[51]\tvalidation_0-auc:0.636687\n",
      "[52]\tvalidation_0-auc:0.6369\n",
      "[53]\tvalidation_0-auc:0.637113\n",
      "[54]\tvalidation_0-auc:0.637302\n",
      "[55]\tvalidation_0-auc:0.63751\n",
      "[56]\tvalidation_0-auc:0.63762\n",
      "[57]\tvalidation_0-auc:0.637671\n",
      "[58]\tvalidation_0-auc:0.63761\n",
      "[59]\tvalidation_0-auc:0.637711\n",
      "[60]\tvalidation_0-auc:0.637808\n",
      "[61]\tvalidation_0-auc:0.637911\n",
      "[62]\tvalidation_0-auc:0.638018\n",
      "[63]\tvalidation_0-auc:0.638202\n",
      "[64]\tvalidation_0-auc:0.638623\n",
      "[65]\tvalidation_0-auc:0.638813\n",
      "[66]\tvalidation_0-auc:0.638866\n",
      "[67]\tvalidation_0-auc:0.638951\n",
      "[68]\tvalidation_0-auc:0.639169\n",
      "[69]\tvalidation_0-auc:0.639279\n",
      "[70]\tvalidation_0-auc:0.639297\n",
      "[71]\tvalidation_0-auc:0.639427\n",
      "[72]\tvalidation_0-auc:0.639399\n",
      "[73]\tvalidation_0-auc:0.639326\n",
      "[74]\tvalidation_0-auc:0.639296\n",
      "[75]\tvalidation_0-auc:0.639352\n",
      "[76]\tvalidation_0-auc:0.639428\n",
      "[77]\tvalidation_0-auc:0.639432\n",
      "[78]\tvalidation_0-auc:0.639421\n",
      "[79]\tvalidation_0-auc:0.639482\n",
      "[80]\tvalidation_0-auc:0.639616\n",
      "[81]\tvalidation_0-auc:0.639719\n",
      "[82]\tvalidation_0-auc:0.639627\n",
      "[83]\tvalidation_0-auc:0.639612\n",
      "[84]\tvalidation_0-auc:0.639627\n",
      "[85]\tvalidation_0-auc:0.639643\n",
      "[86]\tvalidation_0-auc:0.639576\n",
      "[87]\tvalidation_0-auc:0.63954\n",
      "[88]\tvalidation_0-auc:0.639558\n",
      "[89]\tvalidation_0-auc:0.639687\n",
      "[90]\tvalidation_0-auc:0.63966\n",
      "[91]\tvalidation_0-auc:0.6399\n",
      "[92]\tvalidation_0-auc:0.639925\n",
      "[93]\tvalidation_0-auc:0.639975\n",
      "[94]\tvalidation_0-auc:0.639861\n",
      "[95]\tvalidation_0-auc:0.639966\n",
      "[96]\tvalidation_0-auc:0.640019\n",
      "[97]\tvalidation_0-auc:0.640004\n",
      "[98]\tvalidation_0-auc:0.640018\n",
      "[99]\tvalidation_0-auc:0.640017\n",
      "[100]\tvalidation_0-auc:0.6402\n",
      "[101]\tvalidation_0-auc:0.640248\n",
      "[102]\tvalidation_0-auc:0.640241\n",
      "[103]\tvalidation_0-auc:0.640261\n",
      "[104]\tvalidation_0-auc:0.640385\n",
      "[105]\tvalidation_0-auc:0.640404\n",
      "[106]\tvalidation_0-auc:0.640372\n",
      "[107]\tvalidation_0-auc:0.640368\n",
      "[108]\tvalidation_0-auc:0.64037\n",
      "[109]\tvalidation_0-auc:0.640433\n",
      "[110]\tvalidation_0-auc:0.64043\n",
      "[111]\tvalidation_0-auc:0.640372\n",
      "[112]\tvalidation_0-auc:0.640404\n",
      "[113]\tvalidation_0-auc:0.640253\n",
      "[114]\tvalidation_0-auc:0.640249\n",
      "[115]\tvalidation_0-auc:0.640264\n",
      "[116]\tvalidation_0-auc:0.64033\n",
      "[117]\tvalidation_0-auc:0.640353\n",
      "[118]\tvalidation_0-auc:0.640355\n",
      "[119]\tvalidation_0-auc:0.640375\n",
      "[120]\tvalidation_0-auc:0.640429\n",
      "[121]\tvalidation_0-auc:0.640373\n",
      "[122]\tvalidation_0-auc:0.640487\n",
      "[123]\tvalidation_0-auc:0.640428\n",
      "[124]\tvalidation_0-auc:0.640513\n",
      "[125]\tvalidation_0-auc:0.640518\n",
      "[126]\tvalidation_0-auc:0.640464\n",
      "[127]\tvalidation_0-auc:0.640585\n",
      "[128]\tvalidation_0-auc:0.64052\n",
      "[129]\tvalidation_0-auc:0.640498\n",
      "[130]\tvalidation_0-auc:0.640484\n",
      "[131]\tvalidation_0-auc:0.640487\n",
      "[132]\tvalidation_0-auc:0.640488\n",
      "[133]\tvalidation_0-auc:0.640375\n",
      "[134]\tvalidation_0-auc:0.640412\n",
      "[135]\tvalidation_0-auc:0.640459\n",
      "[136]\tvalidation_0-auc:0.640619\n",
      "[137]\tvalidation_0-auc:0.640623\n",
      "[138]\tvalidation_0-auc:0.640684\n",
      "[139]\tvalidation_0-auc:0.640691\n",
      "[140]\tvalidation_0-auc:0.640775\n",
      "[141]\tvalidation_0-auc:0.640755\n",
      "[142]\tvalidation_0-auc:0.64069\n",
      "[143]\tvalidation_0-auc:0.640613\n",
      "[144]\tvalidation_0-auc:0.640797\n",
      "[145]\tvalidation_0-auc:0.640765\n",
      "[146]\tvalidation_0-auc:0.640689\n",
      "[147]\tvalidation_0-auc:0.640636\n",
      "[148]\tvalidation_0-auc:0.640582\n",
      "[149]\tvalidation_0-auc:0.640509\n",
      "[150]\tvalidation_0-auc:0.640584\n",
      "[151]\tvalidation_0-auc:0.640543\n",
      "[152]\tvalidation_0-auc:0.640548\n",
      "[153]\tvalidation_0-auc:0.640526\n",
      "[154]\tvalidation_0-auc:0.640496\n",
      "[155]\tvalidation_0-auc:0.640514\n",
      "[156]\tvalidation_0-auc:0.640622\n",
      "[157]\tvalidation_0-auc:0.640717\n",
      "[158]\tvalidation_0-auc:0.640787\n",
      "[159]\tvalidation_0-auc:0.640731\n",
      "[160]\tvalidation_0-auc:0.640689\n",
      "[161]\tvalidation_0-auc:0.640717\n",
      "[162]\tvalidation_0-auc:0.640697\n",
      "[163]\tvalidation_0-auc:0.640708\n",
      "[164]\tvalidation_0-auc:0.640751\n",
      "[165]\tvalidation_0-auc:0.64062\n",
      "[166]\tvalidation_0-auc:0.64063\n",
      "[167]\tvalidation_0-auc:0.640615\n",
      "[168]\tvalidation_0-auc:0.640553\n",
      "[169]\tvalidation_0-auc:0.640571\n",
      "[170]\tvalidation_0-auc:0.640772\n",
      "[171]\tvalidation_0-auc:0.64069\n",
      "[172]\tvalidation_0-auc:0.640836\n",
      "[173]\tvalidation_0-auc:0.640839\n",
      "[174]\tvalidation_0-auc:0.640822\n",
      "[175]\tvalidation_0-auc:0.640952\n",
      "[176]\tvalidation_0-auc:0.64101\n",
      "[177]\tvalidation_0-auc:0.641101\n",
      "[178]\tvalidation_0-auc:0.641145\n",
      "[179]\tvalidation_0-auc:0.64123\n",
      "[180]\tvalidation_0-auc:0.64123\n",
      "[181]\tvalidation_0-auc:0.641223\n",
      "[182]\tvalidation_0-auc:0.641214\n",
      "[183]\tvalidation_0-auc:0.641205\n",
      "[184]\tvalidation_0-auc:0.641245\n",
      "[185]\tvalidation_0-auc:0.641211\n",
      "[186]\tvalidation_0-auc:0.641316\n",
      "[187]\tvalidation_0-auc:0.641435\n",
      "[188]\tvalidation_0-auc:0.641469\n",
      "[189]\tvalidation_0-auc:0.641506\n",
      "[190]\tvalidation_0-auc:0.641486\n",
      "[191]\tvalidation_0-auc:0.641448\n",
      "[192]\tvalidation_0-auc:0.641428\n",
      "[193]\tvalidation_0-auc:0.641381\n",
      "[194]\tvalidation_0-auc:0.641404\n",
      "[195]\tvalidation_0-auc:0.641381\n",
      "[196]\tvalidation_0-auc:0.641302\n",
      "[197]\tvalidation_0-auc:0.641299\n",
      "[198]\tvalidation_0-auc:0.641383\n",
      "[199]\tvalidation_0-auc:0.641382\n",
      "[200]\tvalidation_0-auc:0.641343\n",
      "[201]\tvalidation_0-auc:0.641415\n",
      "[202]\tvalidation_0-auc:0.641377\n",
      "[203]\tvalidation_0-auc:0.641388\n",
      "[204]\tvalidation_0-auc:0.641406\n",
      "[205]\tvalidation_0-auc:0.641429\n",
      "[206]\tvalidation_0-auc:0.641399\n",
      "[207]\tvalidation_0-auc:0.641382\n",
      "[208]\tvalidation_0-auc:0.641283\n",
      "[209]\tvalidation_0-auc:0.641229\n",
      "[210]\tvalidation_0-auc:0.641264\n",
      "[211]\tvalidation_0-auc:0.64126\n",
      "[212]\tvalidation_0-auc:0.641221\n",
      "[213]\tvalidation_0-auc:0.641217\n",
      "[214]\tvalidation_0-auc:0.641189\n",
      "[215]\tvalidation_0-auc:0.641183\n",
      "[216]\tvalidation_0-auc:0.641192\n",
      "[217]\tvalidation_0-auc:0.6412\n",
      "[218]\tvalidation_0-auc:0.641193\n",
      "[219]\tvalidation_0-auc:0.641163\n",
      "[220]\tvalidation_0-auc:0.641113\n",
      "[221]\tvalidation_0-auc:0.641001\n",
      "[222]\tvalidation_0-auc:0.640942\n",
      "[223]\tvalidation_0-auc:0.640968\n",
      "[224]\tvalidation_0-auc:0.640951\n",
      "[225]\tvalidation_0-auc:0.640985\n",
      "[226]\tvalidation_0-auc:0.641021\n",
      "[227]\tvalidation_0-auc:0.640978\n",
      "[228]\tvalidation_0-auc:0.641042\n",
      "[229]\tvalidation_0-auc:0.641028\n",
      "[230]\tvalidation_0-auc:0.641037\n",
      "[231]\tvalidation_0-auc:0.641035\n",
      "[232]\tvalidation_0-auc:0.641102\n",
      "[233]\tvalidation_0-auc:0.641107\n",
      "[234]\tvalidation_0-auc:0.64113\n",
      "[235]\tvalidation_0-auc:0.641147\n",
      "[236]\tvalidation_0-auc:0.641151\n",
      "[237]\tvalidation_0-auc:0.641184\n",
      "[238]\tvalidation_0-auc:0.641184\n",
      "[239]\tvalidation_0-auc:0.641204\n",
      "Stopping. Best iteration:\n",
      "[189]\tvalidation_0-auc:0.641506\n",
      "\n"
     ]
    },
    {
     "data": {
      "text/plain": [
       "XGBClassifier(base_score=0.5, booster='gbtree', colsample_bylevel=1,\n",
       "       colsample_bytree=1, gamma=0, learning_rate=0.1, max_delta_step=0,\n",
       "       max_depth=3, min_child_weight=1, missing=None, n_estimators=1000,\n",
       "       n_jobs=1, nthread=None, objective='binary:logistic', random_state=0,\n",
       "       reg_alpha=0, reg_lambda=1, scale_pos_weight=15, seed=0,\n",
       "       silent=False, subsample=1)"
      ]
     },
     "execution_count": 12,
     "metadata": {},
     "output_type": "execute_result"
    }
   ],
   "source": [
    "XGB.fit(df_train_predictors,df_train_labels,eval_set=[(df_test_predictors,df_test_labels)],eval_metric='auc',early_stopping_rounds=50,verbose=True)"
   ]
  },
  {
   "cell_type": "code",
   "execution_count": 13,
   "metadata": {},
   "outputs": [
    {
     "data": {
      "text/plain": [
       "XGBClassifier(base_score=0.5, booster='gbtree', colsample_bylevel=1,\n",
       "       colsample_bytree=1, gamma=0, learning_rate=0.1, max_delta_step=0,\n",
       "       max_depth=3, min_child_weight=1, missing=None, n_estimators=189,\n",
       "       n_jobs=1, nthread=None, objective='binary:logistic', random_state=0,\n",
       "       reg_alpha=0, reg_lambda=1, scale_pos_weight=15, seed=0,\n",
       "       silent=False, subsample=1)"
      ]
     },
     "execution_count": 13,
     "metadata": {},
     "output_type": "execute_result"
    }
   ],
   "source": [
    "XGB.set_params(n_estimators=189)"
   ]
  },
  {
   "cell_type": "code",
   "execution_count": 14,
   "metadata": {},
   "outputs": [
    {
     "data": {
      "text/plain": [
       "XGBClassifier(base_score=0.5, booster='gbtree', colsample_bylevel=1,\n",
       "       colsample_bytree=1, gamma=0, learning_rate=0.1, max_delta_step=0,\n",
       "       max_depth=3, min_child_weight=1, missing=None, n_estimators=189,\n",
       "       n_jobs=1, nthread=None, objective='binary:logistic', random_state=0,\n",
       "       reg_alpha=0, reg_lambda=1, scale_pos_weight=15, seed=0,\n",
       "       silent=False, subsample=1)"
      ]
     },
     "execution_count": 14,
     "metadata": {},
     "output_type": "execute_result"
    }
   ],
   "source": [
    "XGB.fit(df_train_predictors,df_train_labels,eval_metric='auc')"
   ]
  },
  {
   "cell_type": "markdown",
   "metadata": {},
   "source": [
    "The above default parameters gave AUC of 0.645. In the next steps we shall see if tuning these parameters will give score above \n",
    "this."
   ]
  },
  {
   "cell_type": "markdown",
   "metadata": {},
   "source": [
    "** Training maxdepth & min_child_weight**"
   ]
  },
  {
   "cell_type": "markdown",
   "metadata": {},
   "source": [
    "Max depth is number splits allowed in a given tree. This is similar to max depth in Random Forest algorithm.\n",
    "\n",
    "Min child weight will have a constrain on Max depth by making sure that no split happens below min child weight value"
   ]
  },
  {
   "cell_type": "code",
   "execution_count": 19,
   "metadata": {},
   "outputs": [
    {
     "data": {
      "text/plain": [
       "GridSearchCV(cv=5, error_score='raise',\n",
       "       estimator=XGBClassifier(base_score=0.5, booster='gbtree', colsample_bylevel=1,\n",
       "       colsample_bytree=1, gamma=0, learning_rate=0.1, max_delta_step=0,\n",
       "       max_depth=3, min_child_weight=1, missing=None, n_estimators=189,\n",
       "       n_jobs=1, nthread=None, objective='binary:logistic', random_state=0,\n",
       "       reg_alpha=0, reg_lambda=1, scale_pos_weight=15, seed=0,\n",
       "       silent=False, subsample=1),\n",
       "       fit_params=None, iid=True, n_jobs=1,\n",
       "       param_grid={'max_depth': [1, 3, 5], 'min_child_weight': [1, 3, 5]},\n",
       "       pre_dispatch='2*n_jobs', refit=True, return_train_score='warn',\n",
       "       scoring='roc_auc', verbose=0)"
      ]
     },
     "execution_count": 19,
     "metadata": {},
     "output_type": "execute_result"
    }
   ],
   "source": [
    "tuning_parameters={'max_depth':[1,3,5],'min_child_weight':[1,3,5]}\n",
    "gridsearch1=GridSearchCV(XGB,param_grid=tuning_parameters,scoring='roc_auc',cv=5)\n",
    "gridsearch1.fit(df_train_predictors,df_train_labels)"
   ]
  },
  {
   "cell_type": "code",
   "execution_count": 20,
   "metadata": {},
   "outputs": [
    {
     "data": {
      "text/plain": [
       "{'max_depth': 3, 'min_child_weight': 5}"
      ]
     },
     "execution_count": 20,
     "metadata": {},
     "output_type": "execute_result"
    }
   ],
   "source": [
    "gridsearch1.best_params_"
   ]
  },
  {
   "cell_type": "markdown",
   "metadata": {},
   "source": [
    "Grid search gives max_depth =3 and min_child_weight=5 as best parameters. We will include these in the next step to see the \n",
    "performance"
   ]
  },
  {
   "cell_type": "code",
   "execution_count": 21,
   "metadata": {},
   "outputs": [],
   "source": [
    "XGB3=XGBClassifier(base_score=0.5, booster='gbtree', colsample_bylevel=1,\n",
    "       colsample_bytree=1, gamma=0, learning_rate=0.1, max_delta_step=0,\n",
    "       max_depth=3, min_child_weight=5, missing=None, n_estimators=189,\n",
    "       n_jobs=1, nthread=None, objective='binary:logistic', random_state=0,\n",
    "       reg_alpha=0, reg_lambda=1, scale_pos_weight=15, seed=0,\n",
    "       silent=False, subsample=1)"
   ]
  },
  {
   "cell_type": "code",
   "execution_count": 22,
   "metadata": {
    "scrolled": true
   },
   "outputs": [
    {
     "name": "stdout",
     "output_type": "stream",
     "text": [
      "[0]\tvalidation_0-auc:0.591476\n",
      "[1]\tvalidation_0-auc:0.595975\n",
      "[2]\tvalidation_0-auc:0.602613\n",
      "[3]\tvalidation_0-auc:0.608549\n",
      "[4]\tvalidation_0-auc:0.60917\n",
      "[5]\tvalidation_0-auc:0.613519\n",
      "[6]\tvalidation_0-auc:0.616597\n",
      "[7]\tvalidation_0-auc:0.61802\n",
      "[8]\tvalidation_0-auc:0.619402\n",
      "[9]\tvalidation_0-auc:0.620097\n",
      "[10]\tvalidation_0-auc:0.620543\n",
      "[11]\tvalidation_0-auc:0.621739\n",
      "[12]\tvalidation_0-auc:0.622338\n",
      "[13]\tvalidation_0-auc:0.622913\n",
      "[14]\tvalidation_0-auc:0.624365\n",
      "[15]\tvalidation_0-auc:0.624535\n",
      "[16]\tvalidation_0-auc:0.625862\n",
      "[17]\tvalidation_0-auc:0.626534\n",
      "[18]\tvalidation_0-auc:0.626687\n",
      "[19]\tvalidation_0-auc:0.627232\n",
      "[20]\tvalidation_0-auc:0.628326\n",
      "[21]\tvalidation_0-auc:0.628755\n",
      "[22]\tvalidation_0-auc:0.629146\n",
      "[23]\tvalidation_0-auc:0.629643\n",
      "[24]\tvalidation_0-auc:0.630028\n",
      "[25]\tvalidation_0-auc:0.630518\n",
      "[26]\tvalidation_0-auc:0.630795\n",
      "[27]\tvalidation_0-auc:0.630821\n",
      "[28]\tvalidation_0-auc:0.631002\n",
      "[29]\tvalidation_0-auc:0.631747\n",
      "[30]\tvalidation_0-auc:0.632283\n",
      "[31]\tvalidation_0-auc:0.63261\n",
      "[32]\tvalidation_0-auc:0.63289\n",
      "[33]\tvalidation_0-auc:0.633616\n",
      "[34]\tvalidation_0-auc:0.633832\n",
      "[35]\tvalidation_0-auc:0.63411\n",
      "[36]\tvalidation_0-auc:0.634431\n",
      "[37]\tvalidation_0-auc:0.634388\n",
      "[38]\tvalidation_0-auc:0.634473\n",
      "[39]\tvalidation_0-auc:0.634815\n",
      "[40]\tvalidation_0-auc:0.63554\n",
      "[41]\tvalidation_0-auc:0.635496\n",
      "[42]\tvalidation_0-auc:0.635362\n",
      "[43]\tvalidation_0-auc:0.635511\n",
      "[44]\tvalidation_0-auc:0.635668\n",
      "[45]\tvalidation_0-auc:0.635761\n",
      "[46]\tvalidation_0-auc:0.63607\n",
      "[47]\tvalidation_0-auc:0.636134\n",
      "[48]\tvalidation_0-auc:0.636133\n",
      "[49]\tvalidation_0-auc:0.636629\n",
      "[50]\tvalidation_0-auc:0.636727\n",
      "[51]\tvalidation_0-auc:0.636687\n",
      "[52]\tvalidation_0-auc:0.6369\n",
      "[53]\tvalidation_0-auc:0.637113\n",
      "[54]\tvalidation_0-auc:0.637302\n",
      "[55]\tvalidation_0-auc:0.63751\n",
      "[56]\tvalidation_0-auc:0.63762\n",
      "[57]\tvalidation_0-auc:0.637671\n",
      "[58]\tvalidation_0-auc:0.63761\n",
      "[59]\tvalidation_0-auc:0.637711\n",
      "[60]\tvalidation_0-auc:0.637808\n",
      "[61]\tvalidation_0-auc:0.637911\n",
      "[62]\tvalidation_0-auc:0.638018\n",
      "[63]\tvalidation_0-auc:0.638202\n",
      "[64]\tvalidation_0-auc:0.638623\n",
      "[65]\tvalidation_0-auc:0.638813\n",
      "[66]\tvalidation_0-auc:0.638866\n",
      "[67]\tvalidation_0-auc:0.638951\n",
      "[68]\tvalidation_0-auc:0.639169\n",
      "[69]\tvalidation_0-auc:0.639281\n",
      "[70]\tvalidation_0-auc:0.6393\n",
      "[71]\tvalidation_0-auc:0.63943\n",
      "[72]\tvalidation_0-auc:0.639402\n",
      "[73]\tvalidation_0-auc:0.639328\n",
      "[74]\tvalidation_0-auc:0.639299\n",
      "[75]\tvalidation_0-auc:0.639355\n",
      "[76]\tvalidation_0-auc:0.63943\n",
      "[77]\tvalidation_0-auc:0.639425\n",
      "[78]\tvalidation_0-auc:0.639414\n",
      "[79]\tvalidation_0-auc:0.639475\n",
      "[80]\tvalidation_0-auc:0.639609\n",
      "[81]\tvalidation_0-auc:0.639712\n",
      "[82]\tvalidation_0-auc:0.63962\n",
      "[83]\tvalidation_0-auc:0.639605\n",
      "[84]\tvalidation_0-auc:0.639621\n",
      "[85]\tvalidation_0-auc:0.639636\n",
      "[86]\tvalidation_0-auc:0.639569\n",
      "[87]\tvalidation_0-auc:0.639533\n",
      "[88]\tvalidation_0-auc:0.639551\n",
      "[89]\tvalidation_0-auc:0.63968\n",
      "[90]\tvalidation_0-auc:0.639667\n",
      "[91]\tvalidation_0-auc:0.639905\n",
      "[92]\tvalidation_0-auc:0.639966\n",
      "[93]\tvalidation_0-auc:0.640018\n",
      "[94]\tvalidation_0-auc:0.640127\n",
      "[95]\tvalidation_0-auc:0.640002\n",
      "[96]\tvalidation_0-auc:0.640115\n",
      "[97]\tvalidation_0-auc:0.6401\n",
      "[98]\tvalidation_0-auc:0.640111\n",
      "[99]\tvalidation_0-auc:0.63999\n",
      "[100]\tvalidation_0-auc:0.640016\n",
      "[101]\tvalidation_0-auc:0.640009\n",
      "[102]\tvalidation_0-auc:0.640018\n",
      "[103]\tvalidation_0-auc:0.640011\n",
      "[104]\tvalidation_0-auc:0.640078\n",
      "[105]\tvalidation_0-auc:0.640135\n",
      "[106]\tvalidation_0-auc:0.640067\n",
      "[107]\tvalidation_0-auc:0.64007\n",
      "[108]\tvalidation_0-auc:0.640261\n",
      "[109]\tvalidation_0-auc:0.640265\n",
      "[110]\tvalidation_0-auc:0.640216\n",
      "[111]\tvalidation_0-auc:0.640082\n",
      "[112]\tvalidation_0-auc:0.640156\n",
      "[113]\tvalidation_0-auc:0.640101\n",
      "[114]\tvalidation_0-auc:0.64013\n",
      "[115]\tvalidation_0-auc:0.640268\n",
      "[116]\tvalidation_0-auc:0.640357\n",
      "[117]\tvalidation_0-auc:0.640343\n",
      "[118]\tvalidation_0-auc:0.640353\n",
      "[119]\tvalidation_0-auc:0.64041\n",
      "[120]\tvalidation_0-auc:0.640302\n",
      "[121]\tvalidation_0-auc:0.640406\n",
      "[122]\tvalidation_0-auc:0.640337\n",
      "[123]\tvalidation_0-auc:0.640429\n",
      "[124]\tvalidation_0-auc:0.640469\n",
      "[125]\tvalidation_0-auc:0.640419\n",
      "[126]\tvalidation_0-auc:0.64054\n",
      "[127]\tvalidation_0-auc:0.64042\n",
      "[128]\tvalidation_0-auc:0.640463\n",
      "[129]\tvalidation_0-auc:0.640506\n",
      "[130]\tvalidation_0-auc:0.640567\n",
      "[131]\tvalidation_0-auc:0.64063\n",
      "[132]\tvalidation_0-auc:0.640574\n",
      "[133]\tvalidation_0-auc:0.640506\n",
      "[134]\tvalidation_0-auc:0.64052\n",
      "[135]\tvalidation_0-auc:0.640529\n",
      "[136]\tvalidation_0-auc:0.640602\n",
      "[137]\tvalidation_0-auc:0.640643\n",
      "[138]\tvalidation_0-auc:0.640691\n",
      "[139]\tvalidation_0-auc:0.640726\n",
      "[140]\tvalidation_0-auc:0.640753\n",
      "[141]\tvalidation_0-auc:0.640662\n",
      "[142]\tvalidation_0-auc:0.640623\n",
      "[143]\tvalidation_0-auc:0.640716\n",
      "[144]\tvalidation_0-auc:0.640798\n",
      "[145]\tvalidation_0-auc:0.640762\n",
      "[146]\tvalidation_0-auc:0.640916\n",
      "[147]\tvalidation_0-auc:0.640784\n",
      "[148]\tvalidation_0-auc:0.640745\n",
      "[149]\tvalidation_0-auc:0.640673\n",
      "[150]\tvalidation_0-auc:0.640661\n",
      "[151]\tvalidation_0-auc:0.640568\n",
      "[152]\tvalidation_0-auc:0.640597\n",
      "[153]\tvalidation_0-auc:0.640553\n",
      "[154]\tvalidation_0-auc:0.64047\n",
      "[155]\tvalidation_0-auc:0.640475\n",
      "[156]\tvalidation_0-auc:0.640428\n",
      "[157]\tvalidation_0-auc:0.640442\n",
      "[158]\tvalidation_0-auc:0.640482\n",
      "[159]\tvalidation_0-auc:0.640549\n",
      "[160]\tvalidation_0-auc:0.640494\n",
      "[161]\tvalidation_0-auc:0.640623\n",
      "[162]\tvalidation_0-auc:0.640567\n",
      "[163]\tvalidation_0-auc:0.640656\n",
      "[164]\tvalidation_0-auc:0.640658\n",
      "[165]\tvalidation_0-auc:0.64079\n",
      "[166]\tvalidation_0-auc:0.640778\n",
      "[167]\tvalidation_0-auc:0.640772\n",
      "[168]\tvalidation_0-auc:0.640811\n",
      "[169]\tvalidation_0-auc:0.640696\n",
      "[170]\tvalidation_0-auc:0.640836\n",
      "[171]\tvalidation_0-auc:0.640823\n",
      "[172]\tvalidation_0-auc:0.640824\n",
      "[173]\tvalidation_0-auc:0.640795\n",
      "[174]\tvalidation_0-auc:0.640879\n",
      "[175]\tvalidation_0-auc:0.640912\n",
      "[176]\tvalidation_0-auc:0.640914\n",
      "[177]\tvalidation_0-auc:0.64091\n",
      "[178]\tvalidation_0-auc:0.640917\n",
      "[179]\tvalidation_0-auc:0.640909\n",
      "[180]\tvalidation_0-auc:0.640857\n",
      "[181]\tvalidation_0-auc:0.640848\n",
      "[182]\tvalidation_0-auc:0.640852\n",
      "[183]\tvalidation_0-auc:0.64092\n",
      "[184]\tvalidation_0-auc:0.640914\n",
      "[185]\tvalidation_0-auc:0.640924\n",
      "[186]\tvalidation_0-auc:0.640946\n",
      "[187]\tvalidation_0-auc:0.640993\n",
      "[188]\tvalidation_0-auc:0.64098\n"
     ]
    },
    {
     "data": {
      "text/plain": [
       "XGBClassifier(base_score=0.5, booster='gbtree', colsample_bylevel=1,\n",
       "       colsample_bytree=1, gamma=0, learning_rate=0.1, max_delta_step=0,\n",
       "       max_depth=3, min_child_weight=5, missing=None, n_estimators=189,\n",
       "       n_jobs=1, nthread=None, objective='binary:logistic', random_state=0,\n",
       "       reg_alpha=0, reg_lambda=1, scale_pos_weight=15, seed=0,\n",
       "       silent=False, subsample=1)"
      ]
     },
     "execution_count": 22,
     "metadata": {},
     "output_type": "execute_result"
    }
   ],
   "source": [
    "XGB3.fit(df_train_predictors,df_train_labels,eval_metric='auc',eval_set=[(df_test_predictors,df_test_labels)])"
   ]
  },
  {
   "cell_type": "markdown",
   "metadata": {},
   "source": [
    "**Tuning max_delta_step **"
   ]
  },
  {
   "cell_type": "code",
   "execution_count": 23,
   "metadata": {},
   "outputs": [
    {
     "data": {
      "text/plain": [
       "GridSearchCV(cv=5, error_score='raise',\n",
       "       estimator=XGBClassifier(base_score=0.5, booster='gbtree', colsample_bylevel=1,\n",
       "       colsample_bytree=1, gamma=0, learning_rate=0.1, max_delta_step=0,\n",
       "       max_depth=3, min_child_weight=5, missing=None, n_estimators=126,\n",
       "       n_jobs=1, nthread=None, objective='binary:logistic', random_state=0,\n",
       "       reg_alpha=0, reg_lambda=1, scale_pos_weight=15, seed=0,\n",
       "       silent=False, subsample=1),\n",
       "       fit_params=None, iid=True, n_jobs=1,\n",
       "       param_grid={'max_delta_step': [0, 2, 4, 6, 8, 10]},\n",
       "       pre_dispatch='2*n_jobs', refit=True, return_train_score='warn',\n",
       "       scoring='roc_auc', verbose=0)"
      ]
     },
     "execution_count": 23,
     "metadata": {},
     "output_type": "execute_result"
    }
   ],
   "source": [
    "XGB4=XGBClassifier(base_score=0.5, booster='gbtree', colsample_bylevel=1,\n",
    "       colsample_bytree=1, gamma=0, learning_rate=0.1, max_delta_step=0,\n",
    "       max_depth=3, min_child_weight=5, missing=None, n_estimators=126,\n",
    "       n_jobs=1, nthread=None, objective='binary:logistic', random_state=0,\n",
    "       reg_alpha=0, reg_lambda=1, scale_pos_weight=15, seed=0,\n",
    "       silent=False, subsample=1)\n",
    "tuning_parameters={'max_delta_step':[0,2,4,6,8,10]}\n",
    "gridsearch2=GridSearchCV(XGB4,param_grid=tuning_parameters,scoring='roc_auc',cv=5)\n",
    "gridsearch2.fit(df_train_predictors,df_train_labels)"
   ]
  },
  {
   "cell_type": "code",
   "execution_count": 24,
   "metadata": {},
   "outputs": [
    {
     "data": {
      "text/plain": [
       "{'max_delta_step': 0}"
      ]
     },
     "execution_count": 24,
     "metadata": {},
     "output_type": "execute_result"
    }
   ],
   "source": [
    "gridsearch2.best_params_"
   ]
  },
  {
   "cell_type": "markdown",
   "metadata": {},
   "source": [
    "max delta step 0 is the best parameter for this model.So, we will leave max delta\n",
    "setp as it is."
   ]
  },
  {
   "cell_type": "markdown",
   "metadata": {},
   "source": [
    "** Tuning gamma **"
   ]
  },
  {
   "cell_type": "code",
   "execution_count": 27,
   "metadata": {},
   "outputs": [],
   "source": [
    "gamma_tuning={'gamma':[i/10 for i in np.arange(1,6)]}"
   ]
  },
  {
   "cell_type": "code",
   "execution_count": 28,
   "metadata": {},
   "outputs": [
    {
     "data": {
      "text/plain": [
       "GridSearchCV(cv=5, error_score='raise',\n",
       "       estimator=XGBClassifier(base_score=0.5, booster='gbtree', colsample_bylevel=1,\n",
       "       colsample_bytree=1, gamma=0, learning_rate=0.1, max_delta_step=0,\n",
       "       max_depth=3, min_child_weight=6, missing=None, n_estimators=126,\n",
       "       n_jobs=1, nthread=None, objective='binary:logistic', random_state=0,\n",
       "       reg_alpha=0, reg_lambda=1, scale_pos_weight=15, seed=0,\n",
       "       silent=False, subsample=1),\n",
       "       fit_params=None, iid=True, n_jobs=1,\n",
       "       param_grid={'gamma': [0.1, 0.2, 0.3, 0.4, 0.5]},\n",
       "       pre_dispatch='2*n_jobs', refit=True, return_train_score='warn',\n",
       "       scoring='roc_auc', verbose=0)"
      ]
     },
     "execution_count": 28,
     "metadata": {},
     "output_type": "execute_result"
    }
   ],
   "source": [
    "gridsearch3=GridSearchCV(XGB4,param_grid=gamma_tuning,scoring='roc_auc',cv=5)\n",
    "gridsearch3.fit(df_train_predictors,df_train_labels)"
   ]
  },
  {
   "cell_type": "code",
   "execution_count": 29,
   "metadata": {},
   "outputs": [
    {
     "data": {
      "text/plain": [
       "[mean: 0.63634, std: 0.00427, params: {'gamma': 0.1},\n",
       " mean: 0.63634, std: 0.00427, params: {'gamma': 0.2},\n",
       " mean: 0.63634, std: 0.00427, params: {'gamma': 0.3},\n",
       " mean: 0.63634, std: 0.00427, params: {'gamma': 0.4},\n",
       " mean: 0.63634, std: 0.00427, params: {'gamma': 0.5}]"
      ]
     },
     "execution_count": 29,
     "metadata": {},
     "output_type": "execute_result"
    }
   ],
   "source": [
    "gridsearch3.grid_scores_"
   ]
  },
  {
   "cell_type": "code",
   "execution_count": 30,
   "metadata": {},
   "outputs": [
    {
     "data": {
      "text/plain": [
       "{'gamma': 0.1}"
      ]
     },
     "execution_count": 30,
     "metadata": {},
     "output_type": "execute_result"
    }
   ],
   "source": [
    "gridsearch3.best_params_"
   ]
  },
  {
   "cell_type": "markdown",
   "metadata": {},
   "source": [
    "0.1 is the best value for gamma.But we shall leave it at 0 for now"
   ]
  },
  {
   "cell_type": "markdown",
   "metadata": {},
   "source": [
    "** Tuning subsample and colsample_bytree **"
   ]
  },
  {
   "cell_type": "code",
   "execution_count": 31,
   "metadata": {},
   "outputs": [
    {
     "data": {
      "text/plain": [
       "GridSearchCV(cv=5, error_score='raise',\n",
       "       estimator=XGBClassifier(base_score=0.5, booster='gbtree', colsample_bylevel=1,\n",
       "       colsample_bytree=1, gamma=0, learning_rate=0.1, max_delta_step=0,\n",
       "       max_depth=3, min_child_weight=6, missing=None, n_estimators=126,\n",
       "       n_jobs=1, nthread=None, objective='binary:logistic', random_state=0,\n",
       "       reg_alpha=0, reg_lambda=1, scale_pos_weight=15, seed=0,\n",
       "       silent=False, subsample=1),\n",
       "       fit_params=None, iid=True, n_jobs=1,\n",
       "       param_grid={'subsample': [0.6, 0.7, 0.8, 1.0], 'colsample_bytree': [0.6, 0.7, 0.8, 1.0]},\n",
       "       pre_dispatch='2*n_jobs', refit=True, return_train_score='warn',\n",
       "       scoring='roc_auc', verbose=0)"
      ]
     },
     "execution_count": 31,
     "metadata": {},
     "output_type": "execute_result"
    }
   ],
   "source": [
    "sample_parameters={'subsample':[0.6,0.7,0.8,1.0],'colsample_bytree':[0.6,0.7,0.8,1.0]}\n",
    "gridsearch4=GridSearchCV(XGB4,param_grid=sample_parameters,scoring='roc_auc',cv=5)\n",
    "gridsearch4.fit(df_train_predictors,df_train_labels)"
   ]
  },
  {
   "cell_type": "code",
   "execution_count": 32,
   "metadata": {},
   "outputs": [
    {
     "data": {
      "text/plain": [
       "[mean: 0.63621, std: 0.00474, params: {'subsample': 0.6, 'colsample_bytree': 0.6},\n",
       " mean: 0.63647, std: 0.00447, params: {'subsample': 0.7, 'colsample_bytree': 0.6},\n",
       " mean: 0.63711, std: 0.00458, params: {'subsample': 0.8, 'colsample_bytree': 0.6},\n",
       " mean: 0.63681, std: 0.00405, params: {'subsample': 1.0, 'colsample_bytree': 0.6},\n",
       " mean: 0.63651, std: 0.00456, params: {'subsample': 0.6, 'colsample_bytree': 0.7},\n",
       " mean: 0.63632, std: 0.00387, params: {'subsample': 0.7, 'colsample_bytree': 0.7},\n",
       " mean: 0.63704, std: 0.00400, params: {'subsample': 0.8, 'colsample_bytree': 0.7},\n",
       " mean: 0.63655, std: 0.00405, params: {'subsample': 1.0, 'colsample_bytree': 0.7},\n",
       " mean: 0.63669, std: 0.00407, params: {'subsample': 0.6, 'colsample_bytree': 0.8},\n",
       " mean: 0.63647, std: 0.00391, params: {'subsample': 0.7, 'colsample_bytree': 0.8},\n",
       " mean: 0.63744, std: 0.00403, params: {'subsample': 0.8, 'colsample_bytree': 0.8},\n",
       " mean: 0.63617, std: 0.00427, params: {'subsample': 1.0, 'colsample_bytree': 0.8},\n",
       " mean: 0.63739, std: 0.00400, params: {'subsample': 0.6, 'colsample_bytree': 1.0},\n",
       " mean: 0.63663, std: 0.00427, params: {'subsample': 0.7, 'colsample_bytree': 1.0},\n",
       " mean: 0.63747, std: 0.00403, params: {'subsample': 0.8, 'colsample_bytree': 1.0},\n",
       " mean: 0.63634, std: 0.00427, params: {'subsample': 1.0, 'colsample_bytree': 1.0}]"
      ]
     },
     "execution_count": 32,
     "metadata": {},
     "output_type": "execute_result"
    }
   ],
   "source": [
    "gridsearch4.grid_scores_"
   ]
  },
  {
   "cell_type": "code",
   "execution_count": 33,
   "metadata": {},
   "outputs": [
    {
     "data": {
      "text/plain": [
       "{'colsample_bytree': 1.0, 'subsample': 0.8}"
      ]
     },
     "execution_count": 33,
     "metadata": {},
     "output_type": "execute_result"
    }
   ],
   "source": [
    "gridsearch4.best_params_"
   ]
  },
  {
   "cell_type": "markdown",
   "metadata": {},
   "source": [
    "subsample:0.8 colsample_bytree :1"
   ]
  },
  {
   "cell_type": "markdown",
   "metadata": {},
   "source": [
    "** Tuning regularisation parameters **"
   ]
  },
  {
   "cell_type": "code",
   "execution_count": 34,
   "metadata": {},
   "outputs": [
    {
     "data": {
      "text/plain": [
       "XGBClassifier(base_score=0.5, booster='gbtree', colsample_bylevel=1,\n",
       "       colsample_bytree=1, gamma=0, learning_rate=0.1, max_delta_step=0,\n",
       "       max_depth=3, min_child_weight=6, missing=None, n_estimators=126,\n",
       "       n_jobs=1, nthread=None, objective='binary:logistic', random_state=0,\n",
       "       reg_alpha=0, reg_lambda=1, scale_pos_weight=15, seed=0,\n",
       "       silent=False, subsample=0.8)"
      ]
     },
     "execution_count": 34,
     "metadata": {},
     "output_type": "execute_result"
    }
   ],
   "source": [
    "XGB4.set_params(subsample=0.8,colsample_bytree=1)"
   ]
  },
  {
   "cell_type": "code",
   "execution_count": 35,
   "metadata": {},
   "outputs": [
    {
     "data": {
      "text/plain": [
       "GridSearchCV(cv=5, error_score='raise',\n",
       "       estimator=XGBClassifier(base_score=0.5, booster='gbtree', colsample_bylevel=1,\n",
       "       colsample_bytree=1, gamma=0, learning_rate=0.1, max_delta_step=0,\n",
       "       max_depth=3, min_child_weight=6, missing=None, n_estimators=126,\n",
       "       n_jobs=1, nthread=None, objective='binary:logistic', random_state=0,\n",
       "       reg_alpha=0, reg_lambda=1, scale_pos_weight=15, seed=0,\n",
       "       silent=False, subsample=0.8),\n",
       "       fit_params=None, iid=True, n_jobs=1,\n",
       "       param_grid={'reg_alpha': [0, 1e-05, 0.01, 1, 10, 100]},\n",
       "       pre_dispatch='2*n_jobs', refit=True, return_train_score='warn',\n",
       "       scoring='roc_auc', verbose=0)"
      ]
     },
     "execution_count": 35,
     "metadata": {},
     "output_type": "execute_result"
    }
   ],
   "source": [
    "alpha_grid={'reg_alpha':[0,1e-5,1e-2,1,10,100]}\n",
    "Gridsearch5=GridSearchCV(XGB4,param_grid=alpha_grid,scoring='roc_auc',cv=5)\n",
    "Gridsearch5.fit(df_train_predictors,df_train_labels)"
   ]
  },
  {
   "cell_type": "code",
   "execution_count": 36,
   "metadata": {},
   "outputs": [
    {
     "data": {
      "text/plain": [
       "[mean: 0.63747, std: 0.00403, params: {'reg_alpha': 0},\n",
       " mean: 0.63747, std: 0.00403, params: {'reg_alpha': 1e-05},\n",
       " mean: 0.63743, std: 0.00398, params: {'reg_alpha': 0.01},\n",
       " mean: 0.63738, std: 0.00417, params: {'reg_alpha': 1},\n",
       " mean: 0.63813, std: 0.00468, params: {'reg_alpha': 10},\n",
       " mean: 0.63773, std: 0.00437, params: {'reg_alpha': 100}]"
      ]
     },
     "execution_count": 36,
     "metadata": {},
     "output_type": "execute_result"
    }
   ],
   "source": [
    "Gridsearch5.grid_scores_"
   ]
  },
  {
   "cell_type": "markdown",
   "metadata": {},
   "source": [
    " So regularisation parameter zero is giving highest auc"
   ]
  },
  {
   "cell_type": "markdown",
   "metadata": {},
   "source": [
    "** Since this is an imbalance problem, we try different ratios of scale_pos_weight and shall see the one giving best result**"
   ]
  },
  {
   "cell_type": "code",
   "execution_count": 39,
   "metadata": {},
   "outputs": [
    {
     "data": {
      "text/plain": [
       "GridSearchCV(cv=5, error_score='raise',\n",
       "       estimator=XGBClassifier(base_score=0.5, booster='gbtree', colsample_bylevel=1,\n",
       "       colsample_bytree=1, gamma=0, learning_rate=0.1, max_delta_step=0,\n",
       "       max_depth=3, min_child_weight=6, missing=None, n_estimators=126,\n",
       "       n_jobs=1, nthread=None, objective='binary:logistic', random_state=0,\n",
       "       reg_alpha=0, reg_lambda=1, scale_pos_weight=15, seed=0,\n",
       "       silent=False, subsample=0.8),\n",
       "       fit_params=None, iid=True, n_jobs=1,\n",
       "       param_grid={'scale_pos_weight': [1, 5, 10, 15, 20, 25, 30]},\n",
       "       pre_dispatch='2*n_jobs', refit=True, return_train_score='warn',\n",
       "       scoring='roc_auc', verbose=0)"
      ]
     },
     "execution_count": 39,
     "metadata": {},
     "output_type": "execute_result"
    }
   ],
   "source": [
    "pos_sample_weights={'scale_pos_weight':[1,5,10,15,20,25,30]}\n",
    "Gridsearchcv6=GridSearchCV(XGB4,param_grid=pos_sample_weights,scoring='roc_auc',cv=5)\n",
    "Gridsearchcv6.fit(df_train_predictors,df_train_labels)"
   ]
  },
  {
   "cell_type": "code",
   "execution_count": 40,
   "metadata": {},
   "outputs": [
    {
     "data": {
      "text/plain": [
       "[mean: 0.63715, std: 0.00370, params: {'scale_pos_weight': 1},\n",
       " mean: 0.63744, std: 0.00436, params: {'scale_pos_weight': 5},\n",
       " mean: 0.63724, std: 0.00436, params: {'scale_pos_weight': 10},\n",
       " mean: 0.63747, std: 0.00403, params: {'scale_pos_weight': 15},\n",
       " mean: 0.63694, std: 0.00441, params: {'scale_pos_weight': 20},\n",
       " mean: 0.63697, std: 0.00469, params: {'scale_pos_weight': 25},\n",
       " mean: 0.63666, std: 0.00439, params: {'scale_pos_weight': 30}]"
      ]
     },
     "execution_count": 40,
     "metadata": {},
     "output_type": "execute_result"
    }
   ],
   "source": [
    "Gridsearchcv6.grid_scores_"
   ]
  },
  {
   "cell_type": "code",
   "execution_count": 41,
   "metadata": {},
   "outputs": [
    {
     "data": {
      "text/plain": [
       "{'scale_pos_weight': 15}"
      ]
     },
     "execution_count": 41,
     "metadata": {},
     "output_type": "execute_result"
    }
   ],
   "source": [
    "Gridsearchcv6.best_params_"
   ]
  },
  {
   "cell_type": "markdown",
   "metadata": {},
   "source": [
    "Scale_pos_weight of 15 is giving the best score."
   ]
  },
  {
   "cell_type": "code",
   "execution_count": 44,
   "metadata": {},
   "outputs": [
    {
     "data": {
      "text/plain": [
       "XGBClassifier(base_score=0.5, booster='gbtree', colsample_bylevel=1,\n",
       "       colsample_bytree=1, gamma=0, learning_rate=0.1, max_delta_step=0,\n",
       "       max_depth=3, min_child_weight=6, missing=None, n_estimators=126,\n",
       "       n_jobs=1, nthread=None, objective='binary:logistic', random_state=0,\n",
       "       reg_alpha=0, reg_lambda=1, scale_pos_weight=15, seed=0,\n",
       "       silent=False, subsample=0.8)"
      ]
     },
     "execution_count": 44,
     "metadata": {},
     "output_type": "execute_result"
    }
   ],
   "source": [
    "XGB4.set_params(scale_pos_weight=15)"
   ]
  },
  {
   "cell_type": "markdown",
   "metadata": {},
   "source": [
    "Checking for performance on the fully updated model"
   ]
  },
  {
   "cell_type": "code",
   "execution_count": 45,
   "metadata": {},
   "outputs": [
    {
     "name": "stdout",
     "output_type": "stream",
     "text": [
      "[0]\tvalidation_0-auc:0.589986\n",
      "[1]\tvalidation_0-auc:0.594509\n",
      "[2]\tvalidation_0-auc:0.602985\n",
      "[3]\tvalidation_0-auc:0.605613\n",
      "[4]\tvalidation_0-auc:0.607152\n",
      "[5]\tvalidation_0-auc:0.612631\n",
      "[6]\tvalidation_0-auc:0.614455\n",
      "[7]\tvalidation_0-auc:0.616436\n",
      "[8]\tvalidation_0-auc:0.616451\n",
      "[9]\tvalidation_0-auc:0.617587\n",
      "[10]\tvalidation_0-auc:0.619255\n",
      "[11]\tvalidation_0-auc:0.62017\n",
      "[12]\tvalidation_0-auc:0.620511\n",
      "[13]\tvalidation_0-auc:0.622017\n",
      "[14]\tvalidation_0-auc:0.622575\n",
      "[15]\tvalidation_0-auc:0.624018\n",
      "[16]\tvalidation_0-auc:0.624852\n",
      "[17]\tvalidation_0-auc:0.625906\n",
      "[18]\tvalidation_0-auc:0.626235\n",
      "[19]\tvalidation_0-auc:0.626954\n",
      "[20]\tvalidation_0-auc:0.627123\n",
      "[21]\tvalidation_0-auc:0.628209\n",
      "[22]\tvalidation_0-auc:0.628929\n",
      "[23]\tvalidation_0-auc:0.629643\n",
      "[24]\tvalidation_0-auc:0.630016\n",
      "[25]\tvalidation_0-auc:0.630538\n",
      "[26]\tvalidation_0-auc:0.630913\n",
      "[27]\tvalidation_0-auc:0.63126\n",
      "[28]\tvalidation_0-auc:0.632173\n",
      "[29]\tvalidation_0-auc:0.6322\n",
      "[30]\tvalidation_0-auc:0.632721\n",
      "[31]\tvalidation_0-auc:0.632683\n",
      "[32]\tvalidation_0-auc:0.632937\n",
      "[33]\tvalidation_0-auc:0.633039\n",
      "[34]\tvalidation_0-auc:0.633158\n",
      "[35]\tvalidation_0-auc:0.633293\n",
      "[36]\tvalidation_0-auc:0.633647\n",
      "[37]\tvalidation_0-auc:0.633669\n",
      "[38]\tvalidation_0-auc:0.634463\n",
      "[39]\tvalidation_0-auc:0.635217\n",
      "[40]\tvalidation_0-auc:0.635495\n",
      "[41]\tvalidation_0-auc:0.635867\n",
      "[42]\tvalidation_0-auc:0.635841\n",
      "[43]\tvalidation_0-auc:0.636087\n",
      "[44]\tvalidation_0-auc:0.636263\n",
      "[45]\tvalidation_0-auc:0.636723\n",
      "[46]\tvalidation_0-auc:0.637027\n",
      "[47]\tvalidation_0-auc:0.637156\n",
      "[48]\tvalidation_0-auc:0.637399\n",
      "[49]\tvalidation_0-auc:0.637622\n",
      "[50]\tvalidation_0-auc:0.637614\n",
      "[51]\tvalidation_0-auc:0.637741\n",
      "[52]\tvalidation_0-auc:0.637664\n",
      "[53]\tvalidation_0-auc:0.63772\n",
      "[54]\tvalidation_0-auc:0.637768\n",
      "[55]\tvalidation_0-auc:0.637767\n",
      "[56]\tvalidation_0-auc:0.637943\n",
      "[57]\tvalidation_0-auc:0.637922\n",
      "[58]\tvalidation_0-auc:0.638091\n",
      "[59]\tvalidation_0-auc:0.638092\n",
      "[60]\tvalidation_0-auc:0.638175\n",
      "[61]\tvalidation_0-auc:0.638095\n",
      "[62]\tvalidation_0-auc:0.63809\n",
      "[63]\tvalidation_0-auc:0.638128\n",
      "[64]\tvalidation_0-auc:0.638131\n",
      "[65]\tvalidation_0-auc:0.638374\n",
      "[66]\tvalidation_0-auc:0.638404\n",
      "[67]\tvalidation_0-auc:0.638453\n",
      "[68]\tvalidation_0-auc:0.638733\n",
      "[69]\tvalidation_0-auc:0.638762\n",
      "[70]\tvalidation_0-auc:0.639026\n",
      "[71]\tvalidation_0-auc:0.63901\n",
      "[72]\tvalidation_0-auc:0.639168\n",
      "[73]\tvalidation_0-auc:0.639237\n",
      "[74]\tvalidation_0-auc:0.639086\n",
      "[75]\tvalidation_0-auc:0.639086\n",
      "[76]\tvalidation_0-auc:0.63919\n",
      "[77]\tvalidation_0-auc:0.639498\n",
      "[78]\tvalidation_0-auc:0.63964\n",
      "[79]\tvalidation_0-auc:0.639703\n",
      "[80]\tvalidation_0-auc:0.639736\n",
      "[81]\tvalidation_0-auc:0.639732\n",
      "[82]\tvalidation_0-auc:0.639526\n",
      "[83]\tvalidation_0-auc:0.639578\n",
      "[84]\tvalidation_0-auc:0.639754\n",
      "[85]\tvalidation_0-auc:0.639632\n",
      "[86]\tvalidation_0-auc:0.639656\n",
      "[87]\tvalidation_0-auc:0.639641\n",
      "[88]\tvalidation_0-auc:0.639856\n",
      "[89]\tvalidation_0-auc:0.639764\n",
      "[90]\tvalidation_0-auc:0.639895\n",
      "[91]\tvalidation_0-auc:0.639725\n",
      "[92]\tvalidation_0-auc:0.639735\n",
      "[93]\tvalidation_0-auc:0.639749\n",
      "[94]\tvalidation_0-auc:0.639895\n",
      "[95]\tvalidation_0-auc:0.640107\n",
      "[96]\tvalidation_0-auc:0.640051\n",
      "[97]\tvalidation_0-auc:0.640108\n",
      "[98]\tvalidation_0-auc:0.640196\n",
      "[99]\tvalidation_0-auc:0.640277\n",
      "[100]\tvalidation_0-auc:0.640262\n",
      "[101]\tvalidation_0-auc:0.640222\n",
      "[102]\tvalidation_0-auc:0.640304\n",
      "[103]\tvalidation_0-auc:0.640369\n",
      "[104]\tvalidation_0-auc:0.640135\n",
      "[105]\tvalidation_0-auc:0.640186\n",
      "[106]\tvalidation_0-auc:0.640117\n",
      "[107]\tvalidation_0-auc:0.640204\n",
      "[108]\tvalidation_0-auc:0.640227\n",
      "[109]\tvalidation_0-auc:0.640284\n",
      "[110]\tvalidation_0-auc:0.640346\n",
      "[111]\tvalidation_0-auc:0.640122\n",
      "[112]\tvalidation_0-auc:0.640178\n",
      "[113]\tvalidation_0-auc:0.640233\n",
      "[114]\tvalidation_0-auc:0.640279\n",
      "[115]\tvalidation_0-auc:0.64031\n",
      "[116]\tvalidation_0-auc:0.640207\n",
      "[117]\tvalidation_0-auc:0.640233\n",
      "[118]\tvalidation_0-auc:0.640171\n",
      "[119]\tvalidation_0-auc:0.64009\n",
      "[120]\tvalidation_0-auc:0.640078\n",
      "[121]\tvalidation_0-auc:0.64006\n",
      "[122]\tvalidation_0-auc:0.640076\n",
      "[123]\tvalidation_0-auc:0.640149\n",
      "[124]\tvalidation_0-auc:0.640297\n",
      "[125]\tvalidation_0-auc:0.640376\n"
     ]
    },
    {
     "data": {
      "text/plain": [
       "XGBClassifier(base_score=0.5, booster='gbtree', colsample_bylevel=1,\n",
       "       colsample_bytree=1, gamma=0, learning_rate=0.1, max_delta_step=0,\n",
       "       max_depth=3, min_child_weight=6, missing=None, n_estimators=126,\n",
       "       n_jobs=1, nthread=None, objective='binary:logistic', random_state=0,\n",
       "       reg_alpha=0, reg_lambda=1, scale_pos_weight=15, seed=0,\n",
       "       silent=False, subsample=0.8)"
      ]
     },
     "execution_count": 45,
     "metadata": {},
     "output_type": "execute_result"
    }
   ],
   "source": [
    "XGB4.fit(df_train_predictors,df_train_labels,eval_metric='auc',eval_set=[(df_test_predictors,df_test_labels)])"
   ]
  },
  {
   "cell_type": "markdown",
   "metadata": {},
   "source": [
    "The Final model is giving AUC of 0.640376 and the validation set.As mentioned earlier, the accuracy of any model depends on\n",
    "feature engineering, machine learning model and optimizing the parameters for the machine learning model.\n",
    "\n",
    "In the current exercise, we have not tested different models, but XG boost has proved to give best results in many previous \n",
    "problems and it is reasonable to go forward with that assumptions. Also, we have tried different settings of hyperparameters\n",
    "but none of them yielded any good imporvements in the results. Part of the limitation is because of obfuscated features hindering\n",
    "us from doing any real feature engineering.\n",
    "\n",
    "Over all this problem is more of a parameter optimisation excercise and we have exlored various hyperparameters available\n",
    "for XGboost\n",
    "\n",
    "As next attempt to improve score on this data set is Neural Networks."
   ]
  }
 ],
 "metadata": {
  "kernelspec": {
   "display_name": "Python 2",
   "language": "python",
   "name": "python2"
  },
  "language_info": {
   "codemirror_mode": {
    "name": "ipython",
    "version": 2
   },
   "file_extension": ".py",
   "mimetype": "text/x-python",
   "name": "python",
   "nbconvert_exporter": "python",
   "pygments_lexer": "ipython2",
   "version": "2.7.12"
  }
 },
 "nbformat": 4,
 "nbformat_minor": 2
}
